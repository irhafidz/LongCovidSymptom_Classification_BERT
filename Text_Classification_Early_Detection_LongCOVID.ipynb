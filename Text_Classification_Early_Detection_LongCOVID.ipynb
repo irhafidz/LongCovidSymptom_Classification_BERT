{
  "cells": [
    {
      "cell_type": "markdown",
      "metadata": {
        "id": "4SnWf3dD95n5"
      },
      "source": [
        "# **Import Library & Requirements**"
      ]
    },
    {
      "cell_type": "code",
      "execution_count": null,
      "metadata": {
        "id": "CezIdqoh9KKu"
      },
      "outputs": [],
      "source": [
        "import ipywidgets as widgets\n",
        "from IPython.display import display\n",
        "import os\n",
        "import random\n",
        "import torch\n",
        "import torch.nn as nn\n",
        "import torch.optim as optim\n",
        "from sklearn.metrics import accuracy_score, f1_score, classification_report, confusion_matrix\n",
        "import seaborn as sns\n",
        "import matplotlib.pyplot as plt\n",
        "from transformers import BertModel, BertTokenizer\n",
        "from sklearn.preprocessing import LabelEncoder\n",
        "from torch.utils.data import DataLoader, TensorDataset, random_split\n",
        "from torch.cuda.amp import autocast\n",
        "from sklearn.model_selection import train_test_split\n",
        "import numpy as np\n",
        "import pandas as pd\n",
        "import google.colab.drive as drive\n",
        "import matplotlib.pyplot as plt\n",
        "from tqdm import tqdm\n",
        "import torch.nn.functional as F  # Importing functional API for softmax"
      ]
    },
    {
      "cell_type": "code",
      "execution_count": null,
      "metadata": {
        "id": "AJpAR_HBXuxo"
      },
      "outputs": [],
      "source": [
        "# Set seed for Python's built-in random module\n",
        "random.seed(46)\n",
        "\n",
        "# Set seed for NumPy\n",
        "np.random.seed(46)\n",
        "\n",
        "# Set seed for PyTorch (CPU)\n",
        "torch.manual_seed(46)\n",
        "\n",
        "# If using GPU, also set the seed for CUDA\n",
        "torch.cuda.manual_seed(46)\n",
        "torch.cuda.manual_seed_all(46)  # If you have multiple GPUs\n",
        "\n",
        "# Ensure reproducibility in certain PyTorch backends\n",
        "torch.backends.cudnn.deterministic = True\n",
        "torch.backends.cudnn.benchmark = False"
      ]
    },
    {
      "cell_type": "markdown",
      "source": [
        "# **Read Data**"
      ],
      "metadata": {
        "id": "1HruMzMStaYM"
      }
    },
    {
      "cell_type": "code",
      "execution_count": null,
      "metadata": {
        "colab": {
          "base_uri": "https://localhost:8080/"
        },
        "id": "Fwp7mZjN-Dnh",
        "outputId": "6ae4e168-ce11-4417-e639-9fa6af84e488"
      },
      "outputs": [
        {
          "output_type": "stream",
          "name": "stdout",
          "text": [
            "Mounted at /content/drive\n"
          ]
        }
      ],
      "source": [
        "# mounting google drive\n",
        "drive.mount('/content/drive')"
      ]
    },
    {
      "cell_type": "markdown",
      "metadata": {
        "id": "oiQyOjGV9r1b"
      },
      "source": [
        "**Clean Dataset**"
      ]
    },
    {
      "cell_type": "code",
      "execution_count": null,
      "metadata": {
        "id": "9-N2zYXX9fdV"
      },
      "outputs": [],
      "source": [
        "# Load Dataset for training\n",
        "data = pd.read_csv('/content/drive/MyDrive/Thesis/Dataset/Label Dataset/Training_Dataset_Clean.csv')"
      ]
    },
    {
      "cell_type": "code",
      "execution_count": null,
      "metadata": {
        "id": "-PKFLJ4GPDEa"
      },
      "outputs": [],
      "source": [
        "# Load Dataset for testing\n",
        "data_test = pd.read_csv('/content/drive/MyDrive/Thesis/Dataset/Label Dataset/data_testing_clean.csv')"
      ]
    },
    {
      "cell_type": "markdown",
      "source": [
        "## **Praprocessing Text**"
      ],
      "metadata": {
        "id": "XEJew_9F6qRa"
      }
    },
    {
      "cell_type": "markdown",
      "source": [
        "### **Convert Texts and Labels into List**"
      ],
      "metadata": {
        "id": "9ZcBZBNdxdeZ"
      }
    },
    {
      "cell_type": "markdown",
      "source": [
        "**Train Data**"
      ],
      "metadata": {
        "id": "-iSHiUjUu8Iy"
      }
    },
    {
      "cell_type": "code",
      "execution_count": null,
      "metadata": {
        "id": "cNVeUgdJ6bEL"
      },
      "outputs": [],
      "source": [
        "# Encode labels\n",
        "le = LabelEncoder()"
      ]
    },
    {
      "cell_type": "code",
      "execution_count": null,
      "metadata": {
        "colab": {
          "base_uri": "https://localhost:8080/"
        },
        "id": "6jOs1DRx-CEN",
        "outputId": "baeab309-d559-4329-989d-d0879b6d1b1d"
      },
      "outputs": [
        {
          "output_type": "stream",
          "name": "stdout",
          "text": [
            "Label distribution: [1000 1000 1000]\n",
            "Classes: [-1  0  1]\n"
          ]
        }
      ],
      "source": [
        "# Training\n",
        "# Extract texts and labels\n",
        "texts = data['text'].astype(str).tolist()\n",
        "labels = data['label'].astype(int).tolist()\n",
        "\n",
        "labels = le.fit_transform(labels)\n",
        "\n",
        "# Check label distribution\n",
        "print(\"Label distribution:\", np.bincount(labels))\n",
        "print(\"Classes:\", le.classes_)"
      ]
    },
    {
      "cell_type": "markdown",
      "source": [
        "**Test Data**"
      ],
      "metadata": {
        "id": "O3pN-kd_vMtX"
      }
    },
    {
      "cell_type": "code",
      "execution_count": null,
      "metadata": {
        "colab": {
          "base_uri": "https://localhost:8080/"
        },
        "id": "fEkvQnB0PPMC",
        "outputId": "a1d0b9d9-41e0-4dfd-e111-0fa9cc371727"
      },
      "outputs": [
        {
          "output_type": "stream",
          "name": "stdout",
          "text": [
            "Label distribution_testing: [50 50 50]\n",
            "Classes_testing: [-1  0  1]\n"
          ]
        }
      ],
      "source": [
        "# Testing\n",
        "test_texts = data_test['text'].astype(str).tolist()\n",
        "test_labels = data_test['label'].astype(int).tolist()\n",
        "\n",
        "# Encode labels\n",
        "test_labels = le.fit_transform(test_labels)\n",
        "\n",
        "# Check label distribution\n",
        "print(\"Label distribution_testing:\", np.bincount(test_labels))\n",
        "print(\"Classes_testing:\", le.classes_)"
      ]
    },
    {
      "cell_type": "markdown",
      "source": [
        "### **Set Tokenizer**"
      ],
      "metadata": {
        "id": "ijynIw1ywXMd"
      }
    },
    {
      "cell_type": "code",
      "source": [
        "# Define a dictionary mapping tokenizer names to their respective pretrained models\n",
        "tokenizer_options = {\n",
        "    'BioBERT': 'dmis-lab/biobert-base-cased-v1.1',\n",
        "    'Bio_ClinicalBERT': 'emilyalsentzer/Bio_ClinicalBERT',\n",
        "    'BERT-base-cased': 'bert-base-cased'\n",
        "}\n",
        "\n",
        "# Create a dropdown widget\n",
        "tokenizer_dropdown = widgets.Dropdown(\n",
        "    options=list(tokenizer_options.keys()),\n",
        "    description='Select Tokenizer:',\n",
        "    style={'description_width': 'initial'}  # Adjust description width if needed\n",
        ")\n",
        "\n",
        "# Display the dropdown\n",
        "display(tokenizer_dropdown)\n",
        "\n",
        "# Function to load the selected tokenizer\n",
        "def load_selected_tokenizer(change):\n",
        "    selected_tokenizer_name = change['new']\n",
        "    selected_tokenizer_model = tokenizer_options[selected_tokenizer_name]\n",
        "    global tokenizer  # Use global keyword to modify the tokenizer variable\n",
        "    tokenizer = BertTokenizer.from_pretrained(selected_tokenizer_model)\n",
        "    print(f\"Selected Tokenizer: {selected_tokenizer_name} ({selected_tokenizer_model})\")\n",
        "\n",
        "# Observe the dropdown for changes\n",
        "tokenizer_dropdown.observe(load_selected_tokenizer, names='value')\n",
        "\n",
        "# Load the default tokenizer (you can change this)\n",
        "tokenizer = BertTokenizer.from_pretrained(tokenizer_options['BERT-base-cased'])\n",
        "print(\"Default Tokenizer: BERT-base-cased\")"
      ],
      "metadata": {
        "colab": {
          "base_uri": "https://localhost:8080/",
          "height": 371,
          "referenced_widgets": [
            "5e5f23dbb3ef44acb95210a483adaed2",
            "93778d43a33046a78a38df18142a957a",
            "b19c7e7d060e452bbdc328a1c4e01fc7",
            "f624e1677af14350889eaa1ea4db27fa",
            "f191fb5cdb9c4644bfcd799120aae8b8",
            "024c50aca013425fa15e25c620caa95a",
            "c5cc5d445d50419886cf7bb7a60bbdf2",
            "09200fbf0c744f448eb250012a0b987b",
            "2afc8b6c8c04499f8840ec2b95d0b9c4",
            "9f04b784f3724c7bb308efc59086e9b6",
            "09dec5ea67124bbbb13fa6358df5a32e",
            "2ad6b74913184cb4a047d0dc0a98ec9b",
            "465c81d681474755a1c59187e7d7d4b0",
            "3ad271c313ce42208281afb8cbacefa6",
            "32d31c7364c9473a821f0b95c2a463a5",
            "3c88381ad8144b77a4f9b10c56eeab33",
            "b27f9f5e9fb2407e8afc81373929b15e",
            "2d7ca55c18c44e7d815d232f39069dcc",
            "f0c9d93689cc49e987f7676f9f9ee3cb",
            "6decc9ab5da840468905f956f4b5ce69",
            "47af4a0f31c34d9e83763001b83dca75",
            "2d79dd2a572344f18c1c764d549dda56",
            "5532ab4fdb4143669f4ddd06d904a072",
            "94fd6ae174f54b77a3b30f9ddd2bc7ab",
            "7741b5c7c6e3418ba9eb58fc839fc0d3",
            "ded577f939234e8aa4f666bafe45910c",
            "e8a811346a04499bb3443e5faf95ff7d",
            "d8fa592edad34e78bd5ebe15927916bf",
            "7ab49f735b144ba3afdc5aaa16b5a85f",
            "405835ef92d34edea44dbbd7774c6247",
            "99eea6f652db4211a8ea3717778d043a",
            "9d199805a13749709b71bc0f18772fbb",
            "d4e0a6b7d24d4222ba98a5c01125db9f",
            "867cd818b26b4664815165ac1719ef03",
            "74f16864360349e98fa19df4e93340fb",
            "d8caeec345c74ae6a763a636e435bb2b",
            "c32cea01a2114bf798701687606c1dc9",
            "51b2645de8684431a4a172183ebb4f13",
            "a5dee970f77341c5bc20f92fef210e2b",
            "805683bacb954c8d93b99e4085d344a5",
            "014928225d6a4c99a1c4a5d43e218a0d",
            "166cbee723134226a484c8413378d68b",
            "f69187d376e249c59e698f215b839d43",
            "de8d52fd67724ebc87147926f9048772",
            "23c25b8e1cc8418fb23f7c0d9ff9d8f5",
            "a0e50b936d1f433bac3d1b65263e3fe2",
            "6a6b4c2236cc4ae9b76d5f6fd94ff43c"
          ]
        },
        "id": "iS7102GKuR7L",
        "outputId": "1381f832-1eb0-49a6-f024-a99e3627677b"
      },
      "execution_count": null,
      "outputs": [
        {
          "output_type": "display_data",
          "data": {
            "text/plain": [
              "Dropdown(description='Select Tokenizer:', options=('BioBERT', 'Bio_ClinicalBERT', 'BERT-base-cased'), style=De…"
            ],
            "application/vnd.jupyter.widget-view+json": {
              "version_major": 2,
              "version_minor": 0,
              "model_id": "5e5f23dbb3ef44acb95210a483adaed2"
            }
          },
          "metadata": {}
        },
        {
          "output_type": "stream",
          "name": "stderr",
          "text": [
            "/usr/local/lib/python3.10/dist-packages/huggingface_hub/utils/_token.py:89: UserWarning: \n",
            "The secret `HF_TOKEN` does not exist in your Colab secrets.\n",
            "To authenticate with the Hugging Face Hub, create a token in your settings tab (https://huggingface.co/settings/tokens), set it as secret in your Google Colab and restart your session.\n",
            "You will be able to reuse this secret in all of your notebooks.\n",
            "Please note that authentication is recommended but still optional to access public models or datasets.\n",
            "  warnings.warn(\n"
          ]
        },
        {
          "output_type": "display_data",
          "data": {
            "text/plain": [
              "tokenizer_config.json:   0%|          | 0.00/49.0 [00:00<?, ?B/s]"
            ],
            "application/vnd.jupyter.widget-view+json": {
              "version_major": 2,
              "version_minor": 0,
              "model_id": "f624e1677af14350889eaa1ea4db27fa"
            }
          },
          "metadata": {}
        },
        {
          "output_type": "display_data",
          "data": {
            "text/plain": [
              "vocab.txt:   0%|          | 0.00/213k [00:00<?, ?B/s]"
            ],
            "application/vnd.jupyter.widget-view+json": {
              "version_major": 2,
              "version_minor": 0,
              "model_id": "32d31c7364c9473a821f0b95c2a463a5"
            }
          },
          "metadata": {}
        },
        {
          "output_type": "display_data",
          "data": {
            "text/plain": [
              "tokenizer.json:   0%|          | 0.00/436k [00:00<?, ?B/s]"
            ],
            "application/vnd.jupyter.widget-view+json": {
              "version_major": 2,
              "version_minor": 0,
              "model_id": "ded577f939234e8aa4f666bafe45910c"
            }
          },
          "metadata": {}
        },
        {
          "output_type": "display_data",
          "data": {
            "text/plain": [
              "config.json:   0%|          | 0.00/570 [00:00<?, ?B/s]"
            ],
            "application/vnd.jupyter.widget-view+json": {
              "version_major": 2,
              "version_minor": 0,
              "model_id": "c32cea01a2114bf798701687606c1dc9"
            }
          },
          "metadata": {}
        },
        {
          "output_type": "stream",
          "name": "stdout",
          "text": [
            "Default Tokenizer: BERT-base-cased\n"
          ]
        },
        {
          "output_type": "stream",
          "name": "stderr",
          "text": [
            "/usr/local/lib/python3.10/dist-packages/transformers/tokenization_utils_base.py:1601: FutureWarning: `clean_up_tokenization_spaces` was not set. It will be set to `True` by default. This behavior will be depracted in transformers v4.45, and will be then set to `False` by default. For more details check this issue: https://github.com/huggingface/transformers/issues/31884\n",
            "  warnings.warn(\n"
          ]
        },
        {
          "output_type": "stream",
          "name": "stdout",
          "text": [
            "Selected Tokenizer: BERT-base-cased (bert-base-cased)\n"
          ]
        }
      ]
    },
    {
      "cell_type": "code",
      "execution_count": null,
      "metadata": {
        "id": "MRUTmX52QKbW"
      },
      "outputs": [],
      "source": [
        "# Prepare data for PyTorch\n",
        "def encode(texts, tokenizer, max_length):\n",
        "    return tokenizer(\n",
        "        texts,\n",
        "        add_special_tokens=True,\n",
        "        max_length=max_length,\n",
        "        truncation=True,\n",
        "        padding='max_length',\n",
        "        return_tensors='pt'\n",
        "    )"
      ]
    },
    {
      "cell_type": "markdown",
      "source": [
        "### **Visualization as A Basis For Decision Making on The Maximum Sequence Length Parameter**"
      ],
      "metadata": {
        "id": "Fj-BWxQtwwwW"
      }
    },
    {
      "cell_type": "code",
      "execution_count": null,
      "metadata": {
        "id": "FliU_yUr-aJk"
      },
      "outputs": [],
      "source": [
        "# tokens = tokenizer.encode(text, add_special_tokens=True)\n",
        "# print(len(tokens))\n",
        "# Calculate token lengths\n",
        "# token_lens = []\n",
        "# for txt in tqdm(texts, desc=\"Calculating token lengths\"):\n",
        "#     tokens = tokenizer.encode(txt, add_special_tokens=True)\n",
        "#     token_lens.append(len(tokens))\n",
        "\n",
        "# # Plot token length distribution\n",
        "# plt.hist(token_lens, bins=50)\n",
        "# plt.xlabel('Token Length')\n",
        "# plt.ylabel('Number of Samples')\n",
        "# plt.title('Distribution of Token Lengths')\n",
        "# plt.show()\n",
        "\n",
        "# # Set max_length to cover 95% of the data\n",
        "# max_length_token = int(np.percentile(token_lens, 95))\n",
        "# print(f\"Selected max_length: {max_length_token}\")"
      ]
    },
    {
      "cell_type": "markdown",
      "source": [
        "### **Set Maximum Sequence Lenght Parameter**"
      ],
      "metadata": {
        "id": "-zeEHJ8-7MA_"
      }
    },
    {
      "cell_type": "code",
      "execution_count": null,
      "metadata": {
        "id": "VQv5y1BUQNgZ"
      },
      "outputs": [],
      "source": [
        "# TRAINING\n",
        "# Tokenize the training texts\n",
        "encoded_inputs = encode(texts, tokenizer, 182)\n",
        "input_ids = encoded_inputs['input_ids']\n",
        "attention_masks = encoded_inputs['attention_mask']"
      ]
    },
    {
      "cell_type": "code",
      "execution_count": null,
      "metadata": {
        "id": "H5Mwe3IYRx5O"
      },
      "outputs": [],
      "source": [
        "#TESTING\n",
        "encoded_inputs_test = encode(test_texts, tokenizer, 182)\n",
        "test_input_ids = encoded_inputs_test['input_ids']\n",
        "test_attention_masks = encoded_inputs_test['attention_mask']"
      ]
    },
    {
      "cell_type": "markdown",
      "source": [
        "### **Convert Data into Tensors**"
      ],
      "metadata": {
        "id": "ALlUowD-7kCG"
      }
    },
    {
      "cell_type": "code",
      "execution_count": null,
      "metadata": {
        "id": "QKPJuOosQ3aB"
      },
      "outputs": [],
      "source": [
        "# TRAINING\n",
        "# Convert labels to tensors\n",
        "train_inputs, val_inputs, train_masks, val_masks, train_labels, val_labels = train_test_split(\n",
        "    input_ids, attention_masks, labels, test_size=0.2, random_state=42, stratify=labels\n",
        ")\n",
        "\n",
        "# Create datasets and dataloaders\n",
        "BATCH_SIZE = 32\n",
        "\n",
        "train_dataset = TensorDataset(train_inputs, train_masks, torch.tensor(train_labels))\n",
        "val_dataset = TensorDataset(val_inputs, val_masks, torch.tensor(val_labels))\n",
        "\n",
        "def seed_worker(worker_id):\n",
        "    np.random.seed(42 + worker_id)\n",
        "    random.seed(42 + worker_id)\n",
        "\n",
        "train_dataloader = DataLoader(train_dataset, shuffle=True, batch_size=BATCH_SIZE, worker_init_fn=seed_worker)\n",
        "val_dataloader = DataLoader(val_dataset, shuffle=False, batch_size=BATCH_SIZE, worker_init_fn=seed_worker)"
      ]
    },
    {
      "cell_type": "code",
      "execution_count": null,
      "metadata": {
        "id": "VpFLW4QCSQfb"
      },
      "outputs": [],
      "source": [
        "# TESTING\n",
        "# Convert labels to tensors\n",
        "test_labels = torch.tensor(test_labels)\n",
        "\n",
        "# If you want to keep the dataset structure similar to your training set\n",
        "test_dataset = TensorDataset(test_input_ids, test_attention_masks, test_labels)"
      ]
    },
    {
      "cell_type": "markdown",
      "source": [
        "# **Training Models**"
      ],
      "metadata": {
        "id": "20hwXVu67rw1"
      }
    },
    {
      "cell_type": "markdown",
      "source": [
        "## **BERT**"
      ],
      "metadata": {
        "id": "4mKDJ3wGAHYy"
      }
    },
    {
      "cell_type": "code",
      "execution_count": null,
      "metadata": {
        "id": "e6Qf0QTKP4Ok"
      },
      "outputs": [],
      "source": [
        "class BERTFineTuned(nn.Module):\n",
        "    def __init__(self, dropout_rate=0.2):\n",
        "        super(BERTFineTuned, self).__init__()\n",
        "        self.bert = BertModel.from_pretrained(\"bert-base-cased\")\n",
        "        self.dropout = nn.Dropout(dropout_rate)\n",
        "        self.classifier = nn.Linear(self.bert.config.hidden_size, 3)\n",
        "\n",
        "    def forward(self, input_ids, attention_mask):\n",
        "        outputs = self.bert(input_ids=input_ids, attention_mask=attention_mask)\n",
        "        cls_output = outputs.pooler_output\n",
        "        cls_output = self.dropout(cls_output)\n",
        "        logits = self.classifier(cls_output)\n",
        "\n",
        "        # Return logits for training and probabilities for inference\n",
        "        return logits\n",
        "\n",
        "    def predict(self, input_ids, attention_mask):\n",
        "        # Forward pass to get logits\n",
        "        logits = self.forward(input_ids, attention_mask)\n",
        "        # Apply Softmax to convert logits to probabilities\n",
        "        probabilities = F.softmax(logits, dim=1)\n",
        "        return probabilities"
      ]
    },
    {
      "cell_type": "code",
      "execution_count": null,
      "metadata": {
        "id": "3UyTgC_BRCW4",
        "colab": {
          "base_uri": "https://localhost:8080/",
          "height": 49,
          "referenced_widgets": [
            "3d01213b3b9e41c3b6920f0b29d028fe",
            "62327551bba1475f95e78d7d44914c85",
            "6767139e7da24c20b9717d64b87f18b8",
            "5d89b9428f5f4dde90078db59fee19f4",
            "589b39147783473e89cbf2c901eb0c06",
            "6efaa90cad8e4de5b8c8863e939328b2",
            "5aa06ac09683483bac317935fd2bc816",
            "238eaff3b46844dabb2b764876bfc30b",
            "bae071ffdb8d4eb787b39fd115832e9e",
            "0fbc3f8532284706a7be78e54b9b7c94",
            "17c965f87673486d84b5a8345ca3233c"
          ]
        },
        "outputId": "6d7f8179-b59b-428f-a676-980041383738"
      },
      "outputs": [
        {
          "output_type": "display_data",
          "data": {
            "text/plain": [
              "model.safetensors:   0%|          | 0.00/436M [00:00<?, ?B/s]"
            ],
            "application/vnd.jupyter.widget-view+json": {
              "version_major": 2,
              "version_minor": 0,
              "model_id": "3d01213b3b9e41c3b6920f0b29d028fe"
            }
          },
          "metadata": {}
        }
      ],
      "source": [
        "# Initialize model\n",
        "model = BERTFineTuned(dropout_rate=0.4)"
      ]
    },
    {
      "cell_type": "markdown",
      "source": [
        "## **BioBERT**"
      ],
      "metadata": {
        "id": "xmcel1nSJD6V"
      }
    },
    {
      "cell_type": "code",
      "source": [
        "class BioBERTFineTuned(nn.Module):\n",
        "    def __init__(self, dropout_rate=0.2):\n",
        "        super(BERTFineTuned, self).__init__()\n",
        "        self.bert = BertModel.from_pretrained('dmis-lab/biobert-base-cased-v1.1')\n",
        "        self.dropout = nn.Dropout(dropout_rate)\n",
        "        self.classifier = nn.Linear(self.bert.config.hidden_size, 3)\n",
        "\n",
        "    def forward(self, input_ids, attention_mask):\n",
        "        outputs = self.bert(input_ids=input_ids, attention_mask=attention_mask)\n",
        "        cls_output = outputs.pooler_output\n",
        "        cls_output = self.dropout(cls_output)\n",
        "        logits = self.classifier(cls_output)\n",
        "\n",
        "        # Return logits for training and probabilities for inference\n",
        "        return logits\n",
        "\n",
        "    def predict(self, input_ids, attention_mask):\n",
        "        # Forward pass to get logits\n",
        "        logits = self.forward(input_ids, attention_mask)\n",
        "        # Apply Softmax to convert logits to probabilities\n",
        "        probabilities = F.softmax(logits, dim=1)\n",
        "        return probabilities"
      ],
      "metadata": {
        "id": "2gqiyxfYJIOD"
      },
      "execution_count": null,
      "outputs": []
    },
    {
      "cell_type": "code",
      "source": [
        "# Initialize model\n",
        "model = BioBERTFineTuned(dropout_rate=0.4)"
      ],
      "metadata": {
        "id": "YFba6ONeJS1i"
      },
      "execution_count": null,
      "outputs": []
    },
    {
      "cell_type": "markdown",
      "source": [
        "## **Bio+Clinical BERT**"
      ],
      "metadata": {
        "id": "lJbVcnBUJyUG"
      }
    },
    {
      "cell_type": "code",
      "source": [
        "class Bio_clinical_BERTFineTuned(nn.Module):\n",
        "    def __init__(self, dropout_rate=0.2):\n",
        "        super(BERTFineTuned, self).__init__()\n",
        "        self.bert = BertModel.from_pretrained(\"emilyalsentzer/Bio_ClinicalBERT\")\n",
        "        self.dropout = nn.Dropout(dropout_rate)\n",
        "        self.classifier = nn.Linear(self.bert.config.hidden_size, 3)\n",
        "\n",
        "    def forward(self, input_ids, attention_mask):\n",
        "        outputs = self.bert(input_ids=input_ids, attention_mask=attention_mask)\n",
        "        cls_output = outputs.pooler_output\n",
        "        cls_output = self.dropout(cls_output)\n",
        "        logits = self.classifier(cls_output)\n",
        "\n",
        "        # Return logits for training and probabilities for inference\n",
        "        return logits\n",
        "\n",
        "    def predict(self, input_ids, attention_mask):\n",
        "        # Forward pass to get logits\n",
        "        logits = self.forward(input_ids, attention_mask)\n",
        "        # Apply Softmax to convert logits to probabilities\n",
        "        probabilities = F.softmax(logits, dim=1)\n",
        "        return probabilities"
      ],
      "metadata": {
        "id": "Gm14EK9nJ4Wg"
      },
      "execution_count": null,
      "outputs": []
    },
    {
      "cell_type": "code",
      "source": [
        "# Initialize model\n",
        "model = Bio_clinical_BERTFineTuned(dropout_rate=0.4)"
      ],
      "metadata": {
        "id": "lHDNt-2wKD01"
      },
      "execution_count": null,
      "outputs": []
    },
    {
      "cell_type": "markdown",
      "source": [
        "## **Train**"
      ],
      "metadata": {
        "id": "dEbWjoH-JVAx"
      }
    },
    {
      "cell_type": "code",
      "execution_count": null,
      "metadata": {
        "id": "TCG4_7fGRNi-"
      },
      "outputs": [],
      "source": [
        "# Set up optimizer and loss function\n",
        "optimizer = torch.optim.AdamW(model.parameters(), lr=2e-5)\n",
        "criterion = nn.CrossEntropyLoss()"
      ]
    },
    {
      "cell_type": "code",
      "execution_count": null,
      "metadata": {
        "colab": {
          "base_uri": "https://localhost:8080/"
        },
        "id": "VdP_gqyxRUbq",
        "outputId": "c22ca4b5-85d9-4460-9f95-b5f87d57fca1"
      },
      "outputs": [
        {
          "output_type": "stream",
          "name": "stdout",
          "text": [
            "cuda\n"
          ]
        },
        {
          "output_type": "execute_result",
          "data": {
            "text/plain": [
              "BERTFineTuned(\n",
              "  (bert): BertModel(\n",
              "    (embeddings): BertEmbeddings(\n",
              "      (word_embeddings): Embedding(28996, 768, padding_idx=0)\n",
              "      (position_embeddings): Embedding(512, 768)\n",
              "      (token_type_embeddings): Embedding(2, 768)\n",
              "      (LayerNorm): LayerNorm((768,), eps=1e-12, elementwise_affine=True)\n",
              "      (dropout): Dropout(p=0.1, inplace=False)\n",
              "    )\n",
              "    (encoder): BertEncoder(\n",
              "      (layer): ModuleList(\n",
              "        (0-11): 12 x BertLayer(\n",
              "          (attention): BertAttention(\n",
              "            (self): BertSdpaSelfAttention(\n",
              "              (query): Linear(in_features=768, out_features=768, bias=True)\n",
              "              (key): Linear(in_features=768, out_features=768, bias=True)\n",
              "              (value): Linear(in_features=768, out_features=768, bias=True)\n",
              "              (dropout): Dropout(p=0.1, inplace=False)\n",
              "            )\n",
              "            (output): BertSelfOutput(\n",
              "              (dense): Linear(in_features=768, out_features=768, bias=True)\n",
              "              (LayerNorm): LayerNorm((768,), eps=1e-12, elementwise_affine=True)\n",
              "              (dropout): Dropout(p=0.1, inplace=False)\n",
              "            )\n",
              "          )\n",
              "          (intermediate): BertIntermediate(\n",
              "            (dense): Linear(in_features=768, out_features=3072, bias=True)\n",
              "            (intermediate_act_fn): GELUActivation()\n",
              "          )\n",
              "          (output): BertOutput(\n",
              "            (dense): Linear(in_features=3072, out_features=768, bias=True)\n",
              "            (LayerNorm): LayerNorm((768,), eps=1e-12, elementwise_affine=True)\n",
              "            (dropout): Dropout(p=0.1, inplace=False)\n",
              "          )\n",
              "        )\n",
              "      )\n",
              "    )\n",
              "    (pooler): BertPooler(\n",
              "      (dense): Linear(in_features=768, out_features=768, bias=True)\n",
              "      (activation): Tanh()\n",
              "    )\n",
              "  )\n",
              "  (dropout): Dropout(p=0.4, inplace=False)\n",
              "  (classifier): Linear(in_features=768, out_features=3, bias=True)\n",
              ")"
            ]
          },
          "metadata": {},
          "execution_count": 18
        }
      ],
      "source": [
        "# Set device (use GPU if available)\n",
        "device = torch.device(\"cuda\" if torch.cuda.is_available() else \"cpu\")\n",
        "print(device)\n",
        "\n",
        "# Print the architecture of models\n",
        "model.to(device)"
      ]
    },
    {
      "cell_type": "code",
      "source": [
        "# # Function to save the best model checkpoint\n",
        "# def save_checkpoint(model, optimizer, epoch, best_val_f1, tokenizer, file_path='best_model_checkpoint.pth'):\n",
        "#     checkpoint = {\n",
        "#         'epoch': epoch,  # Save current epoch\n",
        "#         'model_state_dict': model.state_dict(),  # Save model parameters\n",
        "#         'optimizer_state_dict': optimizer.state_dict(),  # Save optimizer state\n",
        "#         'best_val_f1': best_val_f1,  # Save best validation F1-score\n",
        "#         'learning_rate': 3e-5,  # Save hyperparameters, adjust based on your setup\n",
        "#         'batch_size': 32,       # Save batch size\n",
        "#         'dropout_rate': 0.4,    # Save dropout rate or any other hyperparameters\n",
        "#         # You might not want to save the tokenizer in the checkpoint directly\n",
        "#     }\n",
        "#     torch.save(checkpoint, file_path)\n",
        "\n",
        "#     # Save the tokenizer separately\n",
        "#     tokenizer_save_path = os.path.join(os.path.dirname(file_path), 'tokenizer')\n",
        "#     tokenizer.save_pretrained(tokenizer_save_path)\n",
        "\n",
        "#     print(f\"Best model saved successfully with validation F1-score: {best_val_f1}\")"
      ],
      "metadata": {
        "id": "Ieq7n6O9FrHH"
      },
      "execution_count": null,
      "outputs": []
    },
    {
      "cell_type": "code",
      "source": [
        "# Training loop with model saving\n",
        "train_losses = []\n",
        "val_losses = []\n",
        "train_accuracies = []\n",
        "val_accuracies = []\n",
        "train_f1_scores = []\n",
        "val_f1_scores = []\n",
        "\n",
        "best_val_f1 = 0.0  # Initialize best validation F1-score\n",
        "best_model_path = 'best_model_checkpoint.pth'  # Path to save the best model\n",
        "\n",
        "EPOCHS = 10\n",
        "\n",
        "for epoch in range(EPOCHS):\n",
        "    # Training Phase\n",
        "    model.train()\n",
        "    total_loss = 0\n",
        "    all_preds = []\n",
        "    all_labels = []\n",
        "\n",
        "    for batch in train_dataloader:\n",
        "        input_ids, attention_mask, labels = [b.to(device) for b in batch]\n",
        "\n",
        "        # Zero the gradients\n",
        "        optimizer.zero_grad()\n",
        "\n",
        "        # Forward pass\n",
        "        logits = model(input_ids, attention_mask)\n",
        "\n",
        "        # Compute loss\n",
        "        loss = criterion(logits, labels)\n",
        "        total_loss += loss.item()\n",
        "\n",
        "        # Backward pass and optimization\n",
        "        loss.backward()\n",
        "        optimizer.step()\n",
        "\n",
        "        # Store predictions and labels for accuracy and F1 calculation\n",
        "        preds = torch.argmax(logits, dim=1)\n",
        "        all_preds.extend(preds.cpu().numpy())\n",
        "        all_labels.extend(labels.cpu().numpy())\n",
        "\n",
        "    # Calculate training accuracy and F1-score\n",
        "    train_acc = accuracy_score(all_labels, all_preds)\n",
        "    train_f1 = f1_score(all_labels, all_preds, average='weighted')\n",
        "\n",
        "    train_losses.append(total_loss / len(train_dataloader))\n",
        "    train_accuracies.append(train_acc)\n",
        "    train_f1_scores.append(train_f1)\n",
        "\n",
        "    print(f'Epoch {epoch + 1}/{EPOCHS}, Training --- Loss: {train_losses[-1]:.4f}, Accuracy: {train_acc:.4f}, F1-Score: {train_f1:.4f}')\n",
        "\n",
        "    # Evaluation Phase\n",
        "    model.eval()\n",
        "    total_val_loss = 0\n",
        "    all_val_preds = []\n",
        "    all_val_labels = []\n",
        "\n",
        "    with torch.no_grad():\n",
        "        for batch in val_dataloader:\n",
        "            input_ids, attention_mask, labels = [b.to(device) for b in batch]\n",
        "\n",
        "            # Forward pass\n",
        "            logits = model(input_ids, attention_mask)\n",
        "\n",
        "            # Compute loss\n",
        "            loss = criterion(logits, labels)\n",
        "            total_val_loss += loss.item()\n",
        "\n",
        "            # Store predictions and labels for accuracy and F1 calculation\n",
        "            preds = torch.argmax(logits, dim=1)\n",
        "            all_val_preds.extend(preds.cpu().numpy())\n",
        "            all_val_labels.extend(labels.cpu().numpy())\n",
        "\n",
        "    # Calculate validation accuracy and F1-score\n",
        "    val_acc = accuracy_score(all_val_labels, all_val_preds)\n",
        "    val_f1 = f1_score(all_val_labels, all_val_preds, average='weighted')\n",
        "\n",
        "    val_losses.append(total_val_loss / len(val_dataloader))\n",
        "    val_accuracies.append(val_acc)\n",
        "    val_f1_scores.append(val_f1)\n",
        "\n",
        "    print(f'Epoch {epoch + 1}/{EPOCHS}, Validation --- Loss: {val_losses[-1]:.4f}, Accuracy: {val_acc:.4f}, F1-Score: {val_f1:.4f}')\n",
        "\n",
        "    # Save the model and tokenizer into a directory\n",
        "    directory_name = f'Epoch_{epoch + 1}_F1_Training_{train_f1:.4f}_F1_Validation_{val_f1:.4f}'\n",
        "    if not os.path.exists(directory_name):\n",
        "        os.makedirs(directory_name)\n",
        "\n",
        "    # Save model\n",
        "    model_save_path = os.path.join(directory_name, 'model.pth')\n",
        "    torch.save(model.state_dict(), model_save_path)\n",
        "\n",
        "    # Save tokenizer\n",
        "    tokenizer_save_path = os.path.join(directory_name, 'tokenizer')\n",
        "    tokenizer.save_pretrained(tokenizer_save_path)\n",
        "\n",
        "    print(f'Model and tokenizer saved in directory: {directory_name}')\n",
        "\n",
        "    # Save the best model based on validation F1-score\n",
        "    if val_f1 > best_val_f1:\n",
        "        best_val_f1 = val_f1\n",
        "        # save_checkpoint(model, optimizer, epoch, best_val_f1, tokenizer, best_model_path)  # Save the best model\n",
        "        print(f'Best model updated at epoch {epoch + 1} with validation F1-score: {best_val_f1:.4f}')"
      ],
      "metadata": {
        "colab": {
          "base_uri": "https://localhost:8080/"
        },
        "id": "TXxSozY9FhCH",
        "outputId": "62dc9dc8-12fd-482e-cedf-4df1211f0166"
      },
      "execution_count": null,
      "outputs": [
        {
          "output_type": "stream",
          "name": "stdout",
          "text": [
            "Epoch 1/10, Training --- Loss: 0.8751, Accuracy: 0.5887, F1-Score: 0.5897\n",
            "Epoch 1/10, Validation --- Loss: 0.4772, Accuracy: 0.8400, F1-Score: 0.8416\n",
            "Model and tokenizer saved in directory: Epoch_1_F1_Training_0.5897_F1_Validation_0.8416\n",
            "Best model updated at epoch 1 with validation F1-score: 0.8416\n",
            "Epoch 2/10, Training --- Loss: 0.3978, Accuracy: 0.8612, F1-Score: 0.8612\n",
            "Epoch 2/10, Validation --- Loss: 0.3483, Accuracy: 0.8600, F1-Score: 0.8587\n",
            "Model and tokenizer saved in directory: Epoch_2_F1_Training_0.8612_F1_Validation_0.8587\n",
            "Best model updated at epoch 2 with validation F1-score: 0.8587\n",
            "Epoch 3/10, Training --- Loss: 0.2281, Accuracy: 0.9196, F1-Score: 0.9195\n",
            "Epoch 3/10, Validation --- Loss: 0.3831, Accuracy: 0.8550, F1-Score: 0.8556\n",
            "Model and tokenizer saved in directory: Epoch_3_F1_Training_0.9195_F1_Validation_0.8556\n",
            "Epoch 4/10, Training --- Loss: 0.1402, Accuracy: 0.9508, F1-Score: 0.9508\n",
            "Epoch 4/10, Validation --- Loss: 0.3347, Accuracy: 0.8833, F1-Score: 0.8842\n",
            "Model and tokenizer saved in directory: Epoch_4_F1_Training_0.9508_F1_Validation_0.8842\n",
            "Best model updated at epoch 4 with validation F1-score: 0.8842\n",
            "Epoch 5/10, Training --- Loss: 0.0484, Accuracy: 0.9892, F1-Score: 0.9892\n",
            "Epoch 5/10, Validation --- Loss: 0.4834, Accuracy: 0.8633, F1-Score: 0.8643\n",
            "Model and tokenizer saved in directory: Epoch_5_F1_Training_0.9892_F1_Validation_0.8643\n",
            "Epoch 6/10, Training --- Loss: 0.0262, Accuracy: 0.9933, F1-Score: 0.9933\n",
            "Epoch 6/10, Validation --- Loss: 0.4565, Accuracy: 0.8833, F1-Score: 0.8843\n",
            "Model and tokenizer saved in directory: Epoch_6_F1_Training_0.9933_F1_Validation_0.8843\n",
            "Best model updated at epoch 6 with validation F1-score: 0.8843\n",
            "Epoch 7/10, Training --- Loss: 0.0193, Accuracy: 0.9958, F1-Score: 0.9958\n",
            "Epoch 7/10, Validation --- Loss: 0.5433, Accuracy: 0.8750, F1-Score: 0.8760\n",
            "Model and tokenizer saved in directory: Epoch_7_F1_Training_0.9958_F1_Validation_0.8760\n",
            "Epoch 8/10, Training --- Loss: 0.0112, Accuracy: 0.9988, F1-Score: 0.9987\n",
            "Epoch 8/10, Validation --- Loss: 0.6484, Accuracy: 0.8667, F1-Score: 0.8673\n",
            "Model and tokenizer saved in directory: Epoch_8_F1_Training_0.9987_F1_Validation_0.8673\n",
            "Epoch 9/10, Training --- Loss: 0.0170, Accuracy: 0.9958, F1-Score: 0.9958\n",
            "Epoch 9/10, Validation --- Loss: 0.5861, Accuracy: 0.8733, F1-Score: 0.8740\n",
            "Model and tokenizer saved in directory: Epoch_9_F1_Training_0.9958_F1_Validation_0.8740\n",
            "Epoch 10/10, Training --- Loss: 0.0048, Accuracy: 0.9996, F1-Score: 0.9996\n",
            "Epoch 10/10, Validation --- Loss: 0.6140, Accuracy: 0.8733, F1-Score: 0.8746\n",
            "Model and tokenizer saved in directory: Epoch_10_F1_Training_0.9996_F1_Validation_0.8746\n"
          ]
        }
      ]
    },
    {
      "cell_type": "markdown",
      "metadata": {
        "id": "mtsJDNiHURyv"
      },
      "source": [
        "## **Evaluation**"
      ]
    },
    {
      "cell_type": "markdown",
      "source": [
        "### **Data Validation**"
      ],
      "metadata": {
        "id": "nflYWe_v8gTS"
      }
    },
    {
      "cell_type": "code",
      "execution_count": null,
      "metadata": {
        "colab": {
          "base_uri": "https://localhost:8080/",
          "height": 772
        },
        "id": "QeqjqTKJUHVh",
        "outputId": "1277a68f-2da8-4610-ff3c-c8a471a53746"
      },
      "outputs": [
        {
          "output_type": "stream",
          "name": "stdout",
          "text": [
            "\n",
            "Classification Report:\n",
            "               precision    recall  f1-score   support\n",
            "\n",
            "           0       0.83      0.87      0.85       200\n",
            "           1       0.98      0.93      0.95       200\n",
            "           2       0.85      0.85      0.85       200\n",
            "\n",
            "    accuracy                           0.88       600\n",
            "   macro avg       0.89      0.88      0.88       600\n",
            "weighted avg       0.89      0.88      0.88       600\n",
            "\n"
          ]
        },
        {
          "output_type": "display_data",
          "data": {
            "text/plain": [
              "<Figure size 800x600 with 2 Axes>"
            ],
            "image/png": "[encoded data removed]"
          },
          "metadata": {}
        }
      ],
      "source": [
        "# Path where the best model is saved\n",
        "best_model_path = '/content/Epoch_4_F1_Training_0.9508_F1_Validation_0.8842/model.pth'\n",
        "\n",
        "# Load the checkpoint (the state_dict directly)\n",
        "checkpoint = torch.load(best_model_path, weights_only=True)\n",
        "\n",
        "# Load the model state dictionary\n",
        "model.load_state_dict(checkpoint) # Changed this line to load the checkpoint directly\n",
        "model.eval()  # Set the model to evaluation mode\n",
        "\n",
        "# Evaluate the best model on the validation set\n",
        "all_val_preds = []\n",
        "all_val_labels = []\n",
        "\n",
        "with torch.no_grad():\n",
        "    for batch in val_dataloader:\n",
        "        input_ids, attention_mask, labels = [b.to(device) for b in batch]\n",
        "\n",
        "        # Forward pass\n",
        "        logits = model(input_ids, attention_mask)\n",
        "\n",
        "        # Get predictions\n",
        "        preds = torch.argmax(logits, dim=1)\n",
        "\n",
        "        # Store predictions and true labels\n",
        "        all_val_preds.extend(preds.cpu().numpy())\n",
        "        all_val_labels.extend(labels.cpu().numpy())\n",
        "\n",
        "class_report = classification_report(all_val_labels, all_val_preds)\n",
        "\n",
        "print(\"\\nClassification Report:\\n\", class_report)\n",
        "\n",
        "conf_matrix = confusion_matrix(all_val_labels, all_val_preds) # Calculate confusion matrix\n",
        "\n",
        "plt.figure(figsize=(8, 6))\n",
        "sns.heatmap(conf_matrix, annot=True, fmt='d', cmap='Blues', xticklabels=le.classes_, yticklabels=le.classes_)\n",
        "plt.ylabel('Actual Label')\n",
        "plt.xlabel('Predicted Label')\n",
        "plt.title('Confusion Matrix')\n",
        "plt.show()"
      ]
    },
    {
      "cell_type": "code",
      "execution_count": null,
      "metadata": {
        "colab": {
          "base_uri": "https://localhost:8080/",
          "height": 545
        },
        "id": "AQgxonHEWFzC",
        "outputId": "31011cb7-9d94-48aa-d327-3c88a40ce3d4"
      },
      "outputs": [
        {
          "output_type": "display_data",
          "data": {
            "text/plain": [
              "<Figure size 1200x600 with 2 Axes>"
            ],
            "image/png": "[encoded data removed]"
          },
          "metadata": {}
        }
      ],
      "source": [
        "# Visualize training/validation accuracy and loss\n",
        "epochs_range = range(1, EPOCHS+1)\n",
        "\n",
        "plt.figure(figsize=(12, 6))\n",
        "\n",
        "# Plot accuracy\n",
        "plt.subplot(1, 2, 1)\n",
        "plt.plot(epochs_range, train_accuracies, label='Training Accuracy')\n",
        "plt.plot(epochs_range, val_accuracies, label='Validation Accuracy')\n",
        "plt.legend(loc='lower right')\n",
        "plt.title('Training and Validation Accuracy')\n",
        "\n",
        "# Plot loss\n",
        "plt.subplot(1, 2, 2)\n",
        "plt.plot(epochs_range, train_losses, label='Training Loss')\n",
        "plt.plot(epochs_range, val_losses, label='Validation Loss')\n",
        "plt.legend(loc='upper right')\n",
        "plt.title('Training and Validation Loss')\n",
        "\n",
        "plt.show()"
      ]
    },
    {
      "cell_type": "markdown",
      "metadata": {
        "id": "Wm2RVgNXUU87"
      },
      "source": [
        "### **Data Testing**"
      ]
    },
    {
      "cell_type": "code",
      "execution_count": null,
      "metadata": {
        "colab": {
          "base_uri": "https://localhost:8080/",
          "height": 772
        },
        "id": "SKpJwY8JUW3w",
        "outputId": "42cdf8ca-3bc2-4276-be7b-0afc7cb93072"
      },
      "outputs": [
        {
          "output_type": "stream",
          "name": "stdout",
          "text": [
            "\n",
            "Classification Report:\n",
            "               precision    recall  f1-score   support\n",
            "\n",
            "           0       0.49      0.86      0.62        50\n",
            "           1       0.98      0.90      0.94        50\n",
            "           2       0.44      0.14      0.21        50\n",
            "\n",
            "    accuracy                           0.63       150\n",
            "   macro avg       0.63      0.63      0.59       150\n",
            "weighted avg       0.63      0.63      0.59       150\n",
            "\n"
          ]
        },
        {
          "output_type": "display_data",
          "data": {
            "text/plain": [
              "<Figure size 800x600 with 2 Axes>"
            ],
            "image/png": "[encoded data removed]"
          },
          "metadata": {}
        }
      ],
      "source": [
        "# Path where the best model is saved\n",
        "best_model_path = '/content/Epoch_4_F1_Training_0.9508_F1_Validation_0.8842/model.pth'\n",
        "\n",
        "# Load the checkpoint (the state_dict directly)\n",
        "checkpoint = torch.load(best_model_path, weights_only=True)\n",
        "\n",
        "# Load the model state dictionary\n",
        "model.load_state_dict(checkpoint) # Changed this line to load the checkpoint directly\n",
        "model.eval()  # Set the model to evaluation mode\n",
        "\n",
        "# Ensure your test data is on the right device (CPU or GPU)\n",
        "test_input_ids = test_input_ids.to(device)\n",
        "test_attention_masks = test_attention_masks.to(device)\n",
        "test_labels = torch.tensor(test_labels).to(device)\n",
        "\n",
        "# Perform evaluation on the test data\n",
        "with torch.no_grad():\n",
        "    # Forward pass for the entire test set\n",
        "    logits = model(test_input_ids, attention_mask=test_attention_masks)\n",
        "\n",
        "    # Get predictions (the class with the highest score)\n",
        "    test_preds = torch.argmax(logits, dim=1)\n",
        "\n",
        "# Move predictions and true labels back to CPU and convert to numpy for further analysis\n",
        "test_preds = test_preds.cpu().numpy()\n",
        "test_labels = test_labels.cpu().numpy()\n",
        "\n",
        "# Classification report\n",
        "class_report = classification_report(test_labels, test_preds)\n",
        "print(\"\\nClassification Report:\\n\", class_report)\n",
        "\n",
        "# Confusion matrix\n",
        "conf_matrix = confusion_matrix(test_labels, test_preds)\n",
        "\n",
        "# Optionally, visualize the confusion matrix using seaborn\n",
        "plt.figure(figsize=(8, 6))\n",
        "sns.heatmap(conf_matrix, annot=True, fmt='d', cmap='Blues', xticklabels=le.classes_, yticklabels=le.classes_)\n",
        "plt.ylabel('Actual Label')\n",
        "plt.xlabel('Predicted Label')\n",
        "plt.title('Confusion Matrix')\n",
        "plt.show()"
      ]
    },
    {
      "cell_type": "code",
      "source": [
        "predict_df = pd.DataFrame({\n",
        "    'Text': test_texts,\n",
        "    'True Label': test_labels,\n",
        "    'Predicted Label': test_preds\n",
        "})"
      ],
      "metadata": {
        "id": "SSc9WTvTyVJf"
      },
      "execution_count": null,
      "outputs": []
    },
    {
      "cell_type": "code",
      "source": [
        "predict_df['True Label'] = predict_df['True Label'].replace({0: -1, 1: 0, 2: 1})\n",
        "predict_df['Predicted Label'] = predict_df['Predicted Label'].replace({0: -1, 1: 0, 2: 1})"
      ],
      "metadata": {
        "id": "4tHKCaz79E8A"
      },
      "execution_count": null,
      "outputs": []
    },
    {
      "cell_type": "code",
      "source": [
        "predict_df"
      ],
      "metadata": {
        "colab": {
          "base_uri": "https://localhost:8080/",
          "height": 424
        },
        "id": "DhmWehCLyWXe",
        "outputId": "bcb128cb-01fb-451c-da61-2d7268c7d01b"
      },
      "execution_count": null,
      "outputs": [
        {
          "output_type": "execute_result",
          "data": {
            "text/plain": [
              "                                                  Text  True Label  \\\n",
              "0    feeling tired after that marathon, but it's no...           0   \n",
              "1    i had a cough all day, probably from the dusty...           0   \n",
              "2    headache again... must be from staring at scre...           0   \n",
              "3    lost my taste buds after eating that extra spi...           0   \n",
              "4    fatigue is real after pulling an all-nighter f...           0   \n",
              "..                                                 ...         ...   \n",
              "145  it’s been a year since i had covid, but my sen...           2   \n",
              "146  muscle pain and fatigue have been my constant ...           2   \n",
              "147  i still can’t believe how much energy i’ve los...           2   \n",
              "148  the lingering sore throat from my covid infect...           2   \n",
              "149  long covid has turned my life upside down. fat...           2   \n",
              "\n",
              "     Predicted Label  \n",
              "0                  0  \n",
              "1                  0  \n",
              "2                  0  \n",
              "3                  0  \n",
              "4                  0  \n",
              "..               ...  \n",
              "145                2  \n",
              "146                2  \n",
              "147                2  \n",
              "148                2  \n",
              "149                2  \n",
              "\n",
              "[150 rows x 3 columns]"
            ],
            "text/html": [
              "\n",
              "  <div id=\"df-3355d84b-0d8e-4bbb-999e-d06cdc96daac\" class=\"colab-df-container\">\n",
              "    <div>\n",
              "<style scoped>\n",
              "    .dataframe tbody tr th:only-of-type {\n",
              "        vertical-align: middle;\n",
              "    }\n",
              "\n",
              "    .dataframe tbody tr th {\n",
              "        vertical-align: top;\n",
              "    }\n",
              "\n",
              "    .dataframe thead th {\n",
              "        text-align: right;\n",
              "    }\n",
              "</style>\n",
              "<table border=\"1\" class=\"dataframe\">\n",
              "  <thead>\n",
              "    <tr style=\"text-align: right;\">\n",
              "      <th></th>\n",
              "      <th>Text</th>\n",
              "      <th>True Label</th>\n",
              "      <th>Predicted Label</th>\n",
              "    </tr>\n",
              "  </thead>\n",
              "  <tbody>\n",
              "    <tr>\n",
              "      <th>0</th>\n",
              "      <td>feeling tired after that marathon, but it's no...</td>\n",
              "      <td>0</td>\n",
              "      <td>0</td>\n",
              "    </tr>\n",
              "    <tr>\n",
              "      <th>1</th>\n",
              "      <td>i had a cough all day, probably from the dusty...</td>\n",
              "      <td>0</td>\n",
              "      <td>0</td>\n",
              "    </tr>\n",
              "    <tr>\n",
              "      <th>2</th>\n",
              "      <td>headache again... must be from staring at scre...</td>\n",
              "      <td>0</td>\n",
              "      <td>0</td>\n",
              "    </tr>\n",
              "    <tr>\n",
              "      <th>3</th>\n",
              "      <td>lost my taste buds after eating that extra spi...</td>\n",
              "      <td>0</td>\n",
              "      <td>0</td>\n",
              "    </tr>\n",
              "    <tr>\n",
              "      <th>4</th>\n",
              "      <td>fatigue is real after pulling an all-nighter f...</td>\n",
              "      <td>0</td>\n",
              "      <td>0</td>\n",
              "    </tr>\n",
              "    <tr>\n",
              "      <th>...</th>\n",
              "      <td>...</td>\n",
              "      <td>...</td>\n",
              "      <td>...</td>\n",
              "    </tr>\n",
              "    <tr>\n",
              "      <th>145</th>\n",
              "      <td>it’s been a year since i had covid, but my sen...</td>\n",
              "      <td>2</td>\n",
              "      <td>2</td>\n",
              "    </tr>\n",
              "    <tr>\n",
              "      <th>146</th>\n",
              "      <td>muscle pain and fatigue have been my constant ...</td>\n",
              "      <td>2</td>\n",
              "      <td>2</td>\n",
              "    </tr>\n",
              "    <tr>\n",
              "      <th>147</th>\n",
              "      <td>i still can’t believe how much energy i’ve los...</td>\n",
              "      <td>2</td>\n",
              "      <td>2</td>\n",
              "    </tr>\n",
              "    <tr>\n",
              "      <th>148</th>\n",
              "      <td>the lingering sore throat from my covid infect...</td>\n",
              "      <td>2</td>\n",
              "      <td>2</td>\n",
              "    </tr>\n",
              "    <tr>\n",
              "      <th>149</th>\n",
              "      <td>long covid has turned my life upside down. fat...</td>\n",
              "      <td>2</td>\n",
              "      <td>2</td>\n",
              "    </tr>\n",
              "  </tbody>\n",
              "</table>\n",
              "<p>150 rows × 3 columns</p>\n",
              "</div>\n",
              "    <div class=\"colab-df-buttons\">\n",
              "\n",
              "  <div class=\"colab-df-container\">\n",
              "    <button class=\"colab-df-convert\" onclick=\"convertToInteractive('df-3355d84b-0d8e-4bbb-999e-d06cdc96daac')\"\n",
              "            title=\"Convert this dataframe to an interactive table.\"\n",
              "            style=\"display:none;\">\n",
              "\n",
              "  <svg xmlns=\"http://www.w3.org/2000/svg\" height=\"24px\" viewBox=\"0 -960 960 960\">\n",
              "    <path d=\"M120-120v-720h720v720H120Zm60-500h600v-160H180v160Zm220 220h160v-160H400v160Zm0 220h160v-160H400v160ZM180-400h160v-160H180v160Zm440 0h160v-160H620v160ZM180-180h160v-160H180v160Zm440 0h160v-160H620v160Z\"/>\n",
              "  </svg>\n",
              "    </button>\n",
              "\n",
              "  <style>\n",
              "    .colab-df-container {\n",
              "      display:flex;\n",
              "      gap: 12px;\n",
              "    }\n",
              "\n",
              "    .colab-df-convert {\n",
              "      background-color: #E8F0FE;\n",
              "      border: none;\n",
              "      border-radius: 50%;\n",
              "      cursor: pointer;\n",
              "      display: none;\n",
              "      fill: #1967D2;\n",
              "      height: 32px;\n",
              "      padding: 0 0 0 0;\n",
              "      width: 32px;\n",
              "    }\n",
              "\n",
              "    .colab-df-convert:hover {\n",
              "      background-color: #E2EBFA;\n",
              "      box-shadow: 0px 1px 2px rgba(60, 64, 67, 0.3), 0px 1px 3px 1px rgba(60, 64, 67, 0.15);\n",
              "      fill: #174EA6;\n",
              "    }\n",
              "\n",
              "    .colab-df-buttons div {\n",
              "      margin-bottom: 4px;\n",
              "    }\n",
              "\n",
              "    [theme=dark] .colab-df-convert {\n",
              "      background-color: #3B4455;\n",
              "      fill: #D2E3FC;\n",
              "    }\n",
              "\n",
              "    [theme=dark] .colab-df-convert:hover {\n",
              "      background-color: #434B5C;\n",
              "      box-shadow: 0px 1px 3px 1px rgba(0, 0, 0, 0.15);\n",
              "      filter: drop-shadow(0px 1px 2px rgba(0, 0, 0, 0.3));\n",
              "      fill: #FFFFFF;\n",
              "    }\n",
              "  </style>\n",
              "\n",
              "    <script>\n",
              "      const buttonEl =\n",
              "        document.querySelector('#df-3355d84b-0d8e-4bbb-999e-d06cdc96daac button.colab-df-convert');\n",
              "      buttonEl.style.display =\n",
              "        google.colab.kernel.accessAllowed ? 'block' : 'none';\n",
              "\n",
              "      async function convertToInteractive(key) {\n",
              "        const element = document.querySelector('#df-3355d84b-0d8e-4bbb-999e-d06cdc96daac');\n",
              "        const dataTable =\n",
              "          await google.colab.kernel.invokeFunction('convertToInteractive',\n",
              "                                                    [key], {});\n",
              "        if (!dataTable) return;\n",
              "\n",
              "        const docLinkHtml = 'Like what you see? Visit the ' +\n",
              "          '<a target=\"_blank\" href=https://colab.research.google.com/notebooks/data_table.ipynb>data table notebook</a>'\n",
              "          + ' to learn more about interactive tables.';\n",
              "        element.innerHTML = '';\n",
              "        dataTable['output_type'] = 'display_data';\n",
              "        await google.colab.output.renderOutput(dataTable, element);\n",
              "        const docLink = document.createElement('div');\n",
              "        docLink.innerHTML = docLinkHtml;\n",
              "        element.appendChild(docLink);\n",
              "      }\n",
              "    </script>\n",
              "  </div>\n",
              "\n",
              "\n",
              "<div id=\"df-baf4305e-bde5-4b0f-8c79-e1499e68bc93\">\n",
              "  <button class=\"colab-df-quickchart\" onclick=\"quickchart('df-baf4305e-bde5-4b0f-8c79-e1499e68bc93')\"\n",
              "            title=\"Suggest charts\"\n",
              "            style=\"display:none;\">\n",
              "\n",
              "<svg xmlns=\"http://www.w3.org/2000/svg\" height=\"24px\"viewBox=\"0 0 24 24\"\n",
              "     width=\"24px\">\n",
              "    <g>\n",
              "        <path d=\"M19 3H5c-1.1 0-2 .9-2 2v14c0 1.1.9 2 2 2h14c1.1 0 2-.9 2-2V5c0-1.1-.9-2-2-2zM9 17H7v-7h2v7zm4 0h-2V7h2v10zm4 0h-2v-4h2v4z\"/>\n",
              "    </g>\n",
              "</svg>\n",
              "  </button>\n",
              "\n",
              "<style>\n",
              "  .colab-df-quickchart {\n",
              "      --bg-color: #E8F0FE;\n",
              "      --fill-color: #1967D2;\n",
              "      --hover-bg-color: #E2EBFA;\n",
              "      --hover-fill-color: #174EA6;\n",
              "      --disabled-fill-color: #AAA;\n",
              "      --disabled-bg-color: #DDD;\n",
              "  }\n",
              "\n",
              "  [theme=dark] .colab-df-quickchart {\n",
              "      --bg-color: #3B4455;\n",
              "      --fill-color: #D2E3FC;\n",
              "      --hover-bg-color: #434B5C;\n",
              "      --hover-fill-color: #FFFFFF;\n",
              "      --disabled-bg-color: #3B4455;\n",
              "      --disabled-fill-color: #666;\n",
              "  }\n",
              "\n",
              "  .colab-df-quickchart {\n",
              "    background-color: var(--bg-color);\n",
              "    border: none;\n",
              "    border-radius: 50%;\n",
              "    cursor: pointer;\n",
              "    display: none;\n",
              "    fill: var(--fill-color);\n",
              "    height: 32px;\n",
              "    padding: 0;\n",
              "    width: 32px;\n",
              "  }\n",
              "\n",
              "  .colab-df-quickchart:hover {\n",
              "    background-color: var(--hover-bg-color);\n",
              "    box-shadow: 0 1px 2px rgba(60, 64, 67, 0.3), 0 1px 3px 1px rgba(60, 64, 67, 0.15);\n",
              "    fill: var(--button-hover-fill-color);\n",
              "  }\n",
              "\n",
              "  .colab-df-quickchart-complete:disabled,\n",
              "  .colab-df-quickchart-complete:disabled:hover {\n",
              "    background-color: var(--disabled-bg-color);\n",
              "    fill: var(--disabled-fill-color);\n",
              "    box-shadow: none;\n",
              "  }\n",
              "\n",
              "  .colab-df-spinner {\n",
              "    border: 2px solid var(--fill-color);\n",
              "    border-color: transparent;\n",
              "    border-bottom-color: var(--fill-color);\n",
              "    animation:\n",
              "      spin 1s steps(1) infinite;\n",
              "  }\n",
              "\n",
              "  @keyframes spin {\n",
              "    0% {\n",
              "      border-color: transparent;\n",
              "      border-bottom-color: var(--fill-color);\n",
              "      border-left-color: var(--fill-color);\n",
              "    }\n",
              "    20% {\n",
              "      border-color: transparent;\n",
              "      border-left-color: var(--fill-color);\n",
              "      border-top-color: var(--fill-color);\n",
              "    }\n",
              "    30% {\n",
              "      border-color: transparent;\n",
              "      border-left-color: var(--fill-color);\n",
              "      border-top-color: var(--fill-color);\n",
              "      border-right-color: var(--fill-color);\n",
              "    }\n",
              "    40% {\n",
              "      border-color: transparent;\n",
              "      border-right-color: var(--fill-color);\n",
              "      border-top-color: var(--fill-color);\n",
              "    }\n",
              "    60% {\n",
              "      border-color: transparent;\n",
              "      border-right-color: var(--fill-color);\n",
              "    }\n",
              "    80% {\n",
              "      border-color: transparent;\n",
              "      border-right-color: var(--fill-color);\n",
              "      border-bottom-color: var(--fill-color);\n",
              "    }\n",
              "    90% {\n",
              "      border-color: transparent;\n",
              "      border-bottom-color: var(--fill-color);\n",
              "    }\n",
              "  }\n",
              "</style>\n",
              "\n",
              "  <script>\n",
              "    async function quickchart(key) {\n",
              "      const quickchartButtonEl =\n",
              "        document.querySelector('#' + key + ' button');\n",
              "      quickchartButtonEl.disabled = true;  // To prevent multiple clicks.\n",
              "      quickchartButtonEl.classList.add('colab-df-spinner');\n",
              "      try {\n",
              "        const charts = await google.colab.kernel.invokeFunction(\n",
              "            'suggestCharts', [key], {});\n",
              "      } catch (error) {\n",
              "        console.error('Error during call to suggestCharts:', error);\n",
              "      }\n",
              "      quickchartButtonEl.classList.remove('colab-df-spinner');\n",
              "      quickchartButtonEl.classList.add('colab-df-quickchart-complete');\n",
              "    }\n",
              "    (() => {\n",
              "      let quickchartButtonEl =\n",
              "        document.querySelector('#df-baf4305e-bde5-4b0f-8c79-e1499e68bc93 button');\n",
              "      quickchartButtonEl.style.display =\n",
              "        google.colab.kernel.accessAllowed ? 'block' : 'none';\n",
              "    })();\n",
              "  </script>\n",
              "</div>\n",
              "\n",
              "  <div id=\"id_280f98d7-7db5-475f-afeb-66a80645c8b0\">\n",
              "    <style>\n",
              "      .colab-df-generate {\n",
              "        background-color: #E8F0FE;\n",
              "        border: none;\n",
              "        border-radius: 50%;\n",
              "        cursor: pointer;\n",
              "        display: none;\n",
              "        fill: #1967D2;\n",
              "        height: 32px;\n",
              "        padding: 0 0 0 0;\n",
              "        width: 32px;\n",
              "      }\n",
              "\n",
              "      .colab-df-generate:hover {\n",
              "        background-color: #E2EBFA;\n",
              "        box-shadow: 0px 1px 2px rgba(60, 64, 67, 0.3), 0px 1px 3px 1px rgba(60, 64, 67, 0.15);\n",
              "        fill: #174EA6;\n",
              "      }\n",
              "\n",
              "      [theme=dark] .colab-df-generate {\n",
              "        background-color: #3B4455;\n",
              "        fill: #D2E3FC;\n",
              "      }\n",
              "\n",
              "      [theme=dark] .colab-df-generate:hover {\n",
              "        background-color: #434B5C;\n",
              "        box-shadow: 0px 1px 3px 1px rgba(0, 0, 0, 0.15);\n",
              "        filter: drop-shadow(0px 1px 2px rgba(0, 0, 0, 0.3));\n",
              "        fill: #FFFFFF;\n",
              "      }\n",
              "    </style>\n",
              "    <button class=\"colab-df-generate\" onclick=\"generateWithVariable('results_df')\"\n",
              "            title=\"Generate code using this dataframe.\"\n",
              "            style=\"display:none;\">\n",
              "\n",
              "  <svg xmlns=\"http://www.w3.org/2000/svg\" height=\"24px\"viewBox=\"0 0 24 24\"\n",
              "       width=\"24px\">\n",
              "    <path d=\"M7,19H8.4L18.45,9,17,7.55,7,17.6ZM5,21V16.75L18.45,3.32a2,2,0,0,1,2.83,0l1.4,1.43a1.91,1.91,0,0,1,.58,1.4,1.91,1.91,0,0,1-.58,1.4L9.25,21ZM18.45,9,17,7.55Zm-12,3A5.31,5.31,0,0,0,4.9,8.1,5.31,5.31,0,0,0,1,6.5,5.31,5.31,0,0,0,4.9,4.9,5.31,5.31,0,0,0,6.5,1,5.31,5.31,0,0,0,8.1,4.9,5.31,5.31,0,0,0,12,6.5,5.46,5.46,0,0,0,6.5,12Z\"/>\n",
              "  </svg>\n",
              "    </button>\n",
              "    <script>\n",
              "      (() => {\n",
              "      const buttonEl =\n",
              "        document.querySelector('#id_280f98d7-7db5-475f-afeb-66a80645c8b0 button.colab-df-generate');\n",
              "      buttonEl.style.display =\n",
              "        google.colab.kernel.accessAllowed ? 'block' : 'none';\n",
              "\n",
              "      buttonEl.onclick = () => {\n",
              "        google.colab.notebook.generateWithVariable('results_df');\n",
              "      }\n",
              "      })();\n",
              "    </script>\n",
              "  </div>\n",
              "\n",
              "    </div>\n",
              "  </div>\n"
            ],
            "application/vnd.google.colaboratory.intrinsic+json": {
              "type": "dataframe",
              "variable_name": "results_df",
              "summary": "{\n  \"name\": \"results_df\",\n  \"rows\": 150,\n  \"fields\": [\n    {\n      \"column\": \"Text\",\n      \"properties\": {\n        \"dtype\": \"string\",\n        \"num_unique_values\": 150,\n        \"samples\": [\n          \"just found my new favorite song, it\\u2019s been on repeat all day.\",\n          \"coughing after inhaling all the smoke from the barbecue.\",\n          \"i haven't been able to smell anything properly since getting long covid.\"\n        ],\n        \"semantic_type\": \"\",\n        \"description\": \"\"\n      }\n    },\n    {\n      \"column\": \"True Label\",\n      \"properties\": {\n        \"dtype\": \"number\",\n        \"std\": 0,\n        \"min\": 0,\n        \"max\": 2,\n        \"num_unique_values\": 3,\n        \"samples\": [\n          0,\n          1,\n          2\n        ],\n        \"semantic_type\": \"\",\n        \"description\": \"\"\n      }\n    },\n    {\n      \"column\": \"Predicted Label\",\n      \"properties\": {\n        \"dtype\": \"number\",\n        \"std\": 0,\n        \"min\": 0,\n        \"max\": 2,\n        \"num_unique_values\": 3,\n        \"samples\": [\n          0,\n          2,\n          1\n        ],\n        \"semantic_type\": \"\",\n        \"description\": \"\"\n      }\n    }\n  ]\n}"
            }
          },
          "metadata": {},
          "execution_count": 20
        }
      ]
    },
    {
      "cell_type": "markdown",
      "source": [
        "### **Custom Texts**"
      ],
      "metadata": {
        "id": "2_UyDyry_ecw"
      }
    },
    {
      "cell_type": "code",
      "execution_count": null,
      "metadata": {
        "id": "zpZf0f7BXJd0"
      },
      "outputs": [],
      "source": [
        "# Custom text data (replace this with your own)\n",
        "custom_texts = [\"i have a headache because of thinking about my friend #longcovid\",\n",
        "                \"i have joint pain and shortness of breath, and cough because my friend said something bad to me #longcovid\",\n",
        "                \"my daughter have #longcovid symptoms. i hope she gets well soon\",\n",
        "                \"i have long covid, i feel breathlessness and sometimes feel dizziness #longcovid\",\n",
        "                \"long covid makes you more healthy\",\n",
        "                \"do i have brainfog or i just need more drink?\",\n",
        "                \"hey everyone, it’s been a tough few months. ever since i recovered from covid-19, i’ve been dealing with constant fatigue and brain fog. it’s like my energy just vanished. anyone else experiencing this? #longcovid #fatigue\",\n",
        "                \"i thought i was over covid, but the lingering symptoms are relentless. my sense of smell and taste are still off, and i get these random bouts of dizziness. it’s affecting my daily life so much. #longcovid #healthstruggles\",\n",
        "                \"just wanted to share an update. post-covid, i’ve been having severe joint pain and shortness of breath. it’s been hard to keep up with my usual activities. anyone found any effective treatments? #longcovid #chronicpain\",\n",
        "                \"A 45-year-old female presents with a persistent cough, shortness of breath, and fatigue, which have been ongoing for three weeks. She reports that the cough has worsened over time, and she experiences shortness of breath, particularly during physical activity. She also feels unusually fatigued. Her medical history is unremarkable, and she is a non-smoker with no known allergies. On physical examination, her vital signs are within normal limits: blood pressure is 120/80 mmHg, heart rate is 85 bpm, respiratory rate is 20 breaths per minute, and temperature is 98.6°F. Respiratory examination reveals wheezing in both lungs and decreased breath sounds in the lower lobes, while cardiovascular examination shows normal heart sounds with no murmurs. The assessment suggests possible bronchitis or early-stage pneumonia, and further diagnostic tests, including a chest X-ray and sputum culture, are recommended.\"\n",
        "                ]\n",
        "\n",
        "# Preprocess the custom text: Tokenize and encode\n",
        "def encode_custom_texts(custom_texts, tokenizer, max_length):\n",
        "    encoded_inputs = tokenizer(\n",
        "        custom_texts,\n",
        "        add_special_tokens=True,\n",
        "        max_length=max_length,  # Use the same max_length as training\n",
        "        truncation=True,\n",
        "        padding='max_length',\n",
        "        return_tensors='pt',  # Return as PyTorch tensors\n",
        "        return_attention_mask=True\n",
        "    )\n",
        "    return encoded_inputs\n",
        "\n",
        "# Encode the custom texts\n",
        "encoded_custom_texts = encode_custom_texts(custom_texts, tokenizer, 128)\n",
        "input_ids_custom = encoded_custom_texts['input_ids']\n",
        "attention_mask_custom = encoded_custom_texts['attention_mask']\n",
        "\n",
        "# Move tensors to the appropriate device (GPU or CPU)\n",
        "input_ids_custom = input_ids_custom.to(device)\n",
        "attention_mask_custom = attention_mask_custom.to(device)\n",
        "\n",
        "# Load the best model\n",
        "model.load_state_dict(torch.load('best_model.pth'))\n",
        "model.eval()  # Set to evaluation mode\n",
        "\n",
        "# Perform prediction\n",
        "with torch.no_grad():\n",
        "    logits = model(input_ids_custom, attention_mask_custom)\n",
        "\n",
        "# Get predicted labels (taking the argmax of logits to get class with highest probability)\n",
        "predicted_labels = torch.argmax(logits, dim=1).cpu().numpy()\n",
        "\n",
        "# Decode the predicted labels to their corresponding class names\n",
        "predicted_classes = le.inverse_transform(predicted_labels)\n",
        "\n",
        "# Output the predictions\n",
        "for text, label in zip(custom_texts, predicted_classes):\n",
        "    print(f\"Text: {text}\\nPredicted Label: {label}\\n\")"
      ]
    },
    {
      "cell_type": "markdown",
      "source": [
        "## **Saving the model**"
      ],
      "metadata": {
        "id": "q-ZKNP3fBFY-"
      }
    },
    {
      "cell_type": "code",
      "source": [
        "from google.colab import files\n",
        "\n",
        "def download_directory(directory_path, zip_filename='colab_files.zip'):\n",
        "  \"\"\"Downloads a directory as a zip file from Google Colab.\"\"\"\n",
        "  !zip -r {zip_filename} {directory_path}\n",
        "  files.download(zip_filename)\n",
        "\n",
        "# Example usage:\n",
        "# Replace 'your_directory_path' with the actual path to the directory you want to download.\n",
        "download_directory('/content/Epoch_2_F1_Training_0.8612_F1_Validation_0.8587')"
      ],
      "metadata": {
        "colab": {
          "base_uri": "https://localhost:8080/",
          "height": 139
        },
        "id": "24PZk1kUBJTt",
        "outputId": "83a73219-97bd-4067-a448-9dcecc20ab3f"
      },
      "execution_count": null,
      "outputs": [
        {
          "output_type": "stream",
          "name": "stdout",
          "text": [
            "  adding: content/Epoch_2_F1_Training_0.8612_F1_Validation_0.8587/ (stored 0%)\n",
            "  adding: content/Epoch_2_F1_Training_0.8612_F1_Validation_0.8587/tokenizer/ (stored 0%)\n",
            "  adding: content/Epoch_2_F1_Training_0.8612_F1_Validation_0.8587/tokenizer/tokenizer_config.json (deflated 75%)\n",
            "  adding: content/Epoch_2_F1_Training_0.8612_F1_Validation_0.8587/tokenizer/special_tokens_map.json (deflated 42%)\n",
            "  adding: content/Epoch_2_F1_Training_0.8612_F1_Validation_0.8587/tokenizer/vocab.txt (deflated 49%)\n",
            "  adding: content/Epoch_2_F1_Training_0.8612_F1_Validation_0.8587/model.pth (deflated 7%)\n"
          ]
        },
        {
          "output_type": "display_data",
          "data": {
            "text/plain": [
              "<IPython.core.display.Javascript object>"
            ],
            "application/javascript": [
              "\n",
              "    async function download(id, filename, size) {\n",
              "      if (!google.colab.kernel.accessAllowed) {\n",
              "        return;\n",
              "      }\n",
              "      const div = document.createElement('div');\n",
              "      const label = document.createElement('label');\n",
              "      label.textContent = `Downloading \"${filename}\": `;\n",
              "      div.appendChild(label);\n",
              "      const progress = document.createElement('progress');\n",
              "      progress.max = size;\n",
              "      div.appendChild(progress);\n",
              "      document.body.appendChild(div);\n",
              "\n",
              "      const buffers = [];\n",
              "      let downloaded = 0;\n",
              "\n",
              "      const channel = await google.colab.kernel.comms.open(id);\n",
              "      // Send a message to notify the kernel that we're ready.\n",
              "      channel.send({})\n",
              "\n",
              "      for await (const message of channel.messages) {\n",
              "        // Send a message to notify the kernel that we're ready.\n",
              "        channel.send({})\n",
              "        if (message.buffers) {\n",
              "          for (const buffer of message.buffers) {\n",
              "            buffers.push(buffer);\n",
              "            downloaded += buffer.byteLength;\n",
              "            progress.value = downloaded;\n",
              "          }\n",
              "        }\n",
              "      }\n",
              "      const blob = new Blob(buffers, {type: 'application/binary'});\n",
              "      const a = document.createElement('a');\n",
              "      a.href = window.URL.createObjectURL(blob);\n",
              "      a.download = filename;\n",
              "      div.appendChild(a);\n",
              "      a.click();\n",
              "      div.remove();\n",
              "    }\n",
              "  "
            ]
          },
          "metadata": {}
        },
        {
          "output_type": "display_data",
          "data": {
            "text/plain": [
              "<IPython.core.display.Javascript object>"
            ],
            "application/javascript": [
              "download(\"download_a9ea222f-2035-49cc-a656-06e0265c61cd\", \"colab_files.zip\", 401936675)"
            ]
          },
          "metadata": {}
        }
      ]
    },
    {
      "cell_type": "code",
      "source": [],
      "metadata": {
        "id": "F-_lbb9kOfxF"
      },
      "execution_count": null,
      "outputs": []
    }
  ],
  "metadata": {
    "colab": {
      "provenance": [],
      "gpuType": "T4"
    },
    "kernelspec": {
      "display_name": "Python 3",
      "name": "python3"
    },
    "language_info": {
      "name": "python"
    },
    "widgets": {
      "application/vnd.jupyter.widget-state+json": {
        "5e5f23dbb3ef44acb95210a483adaed2": {
          "model_module": "@jupyter-widgets/controls",
          "model_name": "DropdownModel",
          "model_module_version": "1.5.0",
          "state": {
            "_dom_classes": [],
            "_model_module": "@jupyter-widgets/controls",
            "_model_module_version": "1.5.0",
            "_model_name": "DropdownModel",
            "_options_labels": [
              "BioBERT",
              "Bio_ClinicalBERT",
              "BERT-base-cased"
            ],
            "_view_count": null,
            "_view_module": "@jupyter-widgets/controls",
            "_view_module_version": "1.5.0",
            "_view_name": "DropdownView",
            "description": "Select Tokenizer:",
            "description_tooltip": null,
            "disabled": false,
            "index": 2,
            "layout": "IPY_MODEL_93778d43a33046a78a38df18142a957a",
            "style": "IPY_MODEL_b19c7e7d060e452bbdc328a1c4e01fc7"
          }
        },
        "93778d43a33046a78a38df18142a957a": {
          "model_module": "@jupyter-widgets/base",
          "model_name": "LayoutModel",
          "model_module_version": "1.2.0",
          "state": {
            "_model_module": "@jupyter-widgets/base",
            "_model_module_version": "1.2.0",
            "_model_name": "LayoutModel",
            "_view_count": null,
            "_view_module": "@jupyter-widgets/base",
            "_view_module_version": "1.2.0",
            "_view_name": "LayoutView",
            "align_content": null,
            "align_items": null,
            "align_self": null,
            "border": null,
            "bottom": null,
            "display": null,
            "flex": null,
            "flex_flow": null,
            "grid_area": null,
            "grid_auto_columns": null,
            "grid_auto_flow": null,
            "grid_auto_rows": null,
            "grid_column": null,
            "grid_gap": null,
            "grid_row": null,
            "grid_template_areas": null,
            "grid_template_columns": null,
            "grid_template_rows": null,
            "height": null,
            "justify_content": null,
            "justify_items": null,
            "left": null,
            "margin": null,
            "max_height": null,
            "max_width": null,
            "min_height": null,
            "min_width": null,
            "object_fit": null,
            "object_position": null,
            "order": null,
            "overflow": null,
            "overflow_x": null,
            "overflow_y": null,
            "padding": null,
            "right": null,
            "top": null,
            "visibility": null,
            "width": null
          }
        },
        "b19c7e7d060e452bbdc328a1c4e01fc7": {
          "model_module": "@jupyter-widgets/controls",
          "model_name": "DescriptionStyleModel",
          "model_module_version": "1.5.0",
          "state": {
            "_model_module": "@jupyter-widgets/controls",
            "_model_module_version": "1.5.0",
            "_model_name": "DescriptionStyleModel",
            "_view_count": null,
            "_view_module": "@jupyter-widgets/base",
            "_view_module_version": "1.2.0",
            "_view_name": "StyleView",
            "description_width": "initial"
          }
        },
        "f624e1677af14350889eaa1ea4db27fa": {
          "model_module": "@jupyter-widgets/controls",
          "model_name": "HBoxModel",
          "model_module_version": "1.5.0",
          "state": {
            "_dom_classes": [],
            "_model_module": "@jupyter-widgets/controls",
            "_model_module_version": "1.5.0",
            "_model_name": "HBoxModel",
            "_view_count": null,
            "_view_module": "@jupyter-widgets/controls",
            "_view_module_version": "1.5.0",
            "_view_name": "HBoxView",
            "box_style": "",
            "children": [
              "IPY_MODEL_f191fb5cdb9c4644bfcd799120aae8b8",
              "IPY_MODEL_024c50aca013425fa15e25c620caa95a",
              "IPY_MODEL_c5cc5d445d50419886cf7bb7a60bbdf2"
            ],
            "layout": "IPY_MODEL_09200fbf0c744f448eb250012a0b987b"
          }
        },
        "f191fb5cdb9c4644bfcd799120aae8b8": {
          "model_module": "@jupyter-widgets/controls",
          "model_name": "HTMLModel",
          "model_module_version": "1.5.0",
          "state": {
            "_dom_classes": [],
            "_model_module": "@jupyter-widgets/controls",
            "_model_module_version": "1.5.0",
            "_model_name": "HTMLModel",
            "_view_count": null,
            "_view_module": "@jupyter-widgets/controls",
            "_view_module_version": "1.5.0",
            "_view_name": "HTMLView",
            "description": "",
            "description_tooltip": null,
            "layout": "IPY_MODEL_2afc8b6c8c04499f8840ec2b95d0b9c4",
            "placeholder": "​",
            "style": "IPY_MODEL_9f04b784f3724c7bb308efc59086e9b6",
            "value": "tokenizer_config.json: 100%"
          }
        },
        "024c50aca013425fa15e25c620caa95a": {
          "model_module": "@jupyter-widgets/controls",
          "model_name": "FloatProgressModel",
          "model_module_version": "1.5.0",
          "state": {
            "_dom_classes": [],
            "_model_module": "@jupyter-widgets/controls",
            "_model_module_version": "1.5.0",
            "_model_name": "FloatProgressModel",
            "_view_count": null,
            "_view_module": "@jupyter-widgets/controls",
            "_view_module_version": "1.5.0",
            "_view_name": "ProgressView",
            "bar_style": "success",
            "description": "",
            "description_tooltip": null,
            "layout": "IPY_MODEL_09dec5ea67124bbbb13fa6358df5a32e",
            "max": 49,
            "min": 0,
            "orientation": "horizontal",
            "style": "IPY_MODEL_2ad6b74913184cb4a047d0dc0a98ec9b",
            "value": 49
          }
        },
        "c5cc5d445d50419886cf7bb7a60bbdf2": {
          "model_module": "@jupyter-widgets/controls",
          "model_name": "HTMLModel",
          "model_module_version": "1.5.0",
          "state": {
            "_dom_classes": [],
            "_model_module": "@jupyter-widgets/controls",
            "_model_module_version": "1.5.0",
            "_model_name": "HTMLModel",
            "_view_count": null,
            "_view_module": "@jupyter-widgets/controls",
            "_view_module_version": "1.5.0",
            "_view_name": "HTMLView",
            "description": "",
            "description_tooltip": null,
            "layout": "IPY_MODEL_465c81d681474755a1c59187e7d7d4b0",
            "placeholder": "​",
            "style": "IPY_MODEL_3ad271c313ce42208281afb8cbacefa6",
            "value": " 49.0/49.0 [00:00&lt;00:00, 1.29kB/s]"
          }
        },
        "09200fbf0c744f448eb250012a0b987b": {
          "model_module": "@jupyter-widgets/base",
          "model_name": "LayoutModel",
          "model_module_version": "1.2.0",
          "state": {
            "_model_module": "@jupyter-widgets/base",
            "_model_module_version": "1.2.0",
            "_model_name": "LayoutModel",
            "_view_count": null,
            "_view_module": "@jupyter-widgets/base",
            "_view_module_version": "1.2.0",
            "_view_name": "LayoutView",
            "align_content": null,
            "align_items": null,
            "align_self": null,
            "border": null,
            "bottom": null,
            "display": null,
            "flex": null,
            "flex_flow": null,
            "grid_area": null,
            "grid_auto_columns": null,
            "grid_auto_flow": null,
            "grid_auto_rows": null,
            "grid_column": null,
            "grid_gap": null,
            "grid_row": null,
            "grid_template_areas": null,
            "grid_template_columns": null,
            "grid_template_rows": null,
            "height": null,
            "justify_content": null,
            "justify_items": null,
            "left": null,
            "margin": null,
            "max_height": null,
            "max_width": null,
            "min_height": null,
            "min_width": null,
            "object_fit": null,
            "object_position": null,
            "order": null,
            "overflow": null,
            "overflow_x": null,
            "overflow_y": null,
            "padding": null,
            "right": null,
            "top": null,
            "visibility": null,
            "width": null
          }
        },
        "2afc8b6c8c04499f8840ec2b95d0b9c4": {
          "model_module": "@jupyter-widgets/base",
          "model_name": "LayoutModel",
          "model_module_version": "1.2.0",
          "state": {
            "_model_module": "@jupyter-widgets/base",
            "_model_module_version": "1.2.0",
            "_model_name": "LayoutModel",
            "_view_count": null,
            "_view_module": "@jupyter-widgets/base",
            "_view_module_version": "1.2.0",
            "_view_name": "LayoutView",
            "align_content": null,
            "align_items": null,
            "align_self": null,
            "border": null,
            "bottom": null,
            "display": null,
            "flex": null,
            "flex_flow": null,
            "grid_area": null,
            "grid_auto_columns": null,
            "grid_auto_flow": null,
            "grid_auto_rows": null,
            "grid_column": null,
            "grid_gap": null,
            "grid_row": null,
            "grid_template_areas": null,
            "grid_template_columns": null,
            "grid_template_rows": null,
            "height": null,
            "justify_content": null,
            "justify_items": null,
            "left": null,
            "margin": null,
            "max_height": null,
            "max_width": null,
            "min_height": null,
            "min_width": null,
            "object_fit": null,
            "object_position": null,
            "order": null,
            "overflow": null,
            "overflow_x": null,
            "overflow_y": null,
            "padding": null,
            "right": null,
            "top": null,
            "visibility": null,
            "width": null
          }
        },
        "9f04b784f3724c7bb308efc59086e9b6": {
          "model_module": "@jupyter-widgets/controls",
          "model_name": "DescriptionStyleModel",
          "model_module_version": "1.5.0",
          "state": {
            "_model_module": "@jupyter-widgets/controls",
            "_model_module_version": "1.5.0",
            "_model_name": "DescriptionStyleModel",
            "_view_count": null,
            "_view_module": "@jupyter-widgets/base",
            "_view_module_version": "1.2.0",
            "_view_name": "StyleView",
            "description_width": ""
          }
        },
        "09dec5ea67124bbbb13fa6358df5a32e": {
          "model_module": "@jupyter-widgets/base",
          "model_name": "LayoutModel",
          "model_module_version": "1.2.0",
          "state": {
            "_model_module": "@jupyter-widgets/base",
            "_model_module_version": "1.2.0",
            "_model_name": "LayoutModel",
            "_view_count": null,
            "_view_module": "@jupyter-widgets/base",
            "_view_module_version": "1.2.0",
            "_view_name": "LayoutView",
            "align_content": null,
            "align_items": null,
            "align_self": null,
            "border": null,
            "bottom": null,
            "display": null,
            "flex": null,
            "flex_flow": null,
            "grid_area": null,
            "grid_auto_columns": null,
            "grid_auto_flow": null,
            "grid_auto_rows": null,
            "grid_column": null,
            "grid_gap": null,
            "grid_row": null,
            "grid_template_areas": null,
            "grid_template_columns": null,
            "grid_template_rows": null,
            "height": null,
            "justify_content": null,
            "justify_items": null,
            "left": null,
            "margin": null,
            "max_height": null,
            "max_width": null,
            "min_height": null,
            "min_width": null,
            "object_fit": null,
            "object_position": null,
            "order": null,
            "overflow": null,
            "overflow_x": null,
            "overflow_y": null,
            "padding": null,
            "right": null,
            "top": null,
            "visibility": null,
            "width": null
          }
        },
        "2ad6b74913184cb4a047d0dc0a98ec9b": {
          "model_module": "@jupyter-widgets/controls",
          "model_name": "ProgressStyleModel",
          "model_module_version": "1.5.0",
          "state": {
            "_model_module": "@jupyter-widgets/controls",
            "_model_module_version": "1.5.0",
            "_model_name": "ProgressStyleModel",
            "_view_count": null,
            "_view_module": "@jupyter-widgets/base",
            "_view_module_version": "1.2.0",
            "_view_name": "StyleView",
            "bar_color": null,
            "description_width": ""
          }
        },
        "465c81d681474755a1c59187e7d7d4b0": {
          "model_module": "@jupyter-widgets/base",
          "model_name": "LayoutModel",
          "model_module_version": "1.2.0",
          "state": {
            "_model_module": "@jupyter-widgets/base",
            "_model_module_version": "1.2.0",
            "_model_name": "LayoutModel",
            "_view_count": null,
            "_view_module": "@jupyter-widgets/base",
            "_view_module_version": "1.2.0",
            "_view_name": "LayoutView",
            "align_content": null,
            "align_items": null,
            "align_self": null,
            "border": null,
            "bottom": null,
            "display": null,
            "flex": null,
            "flex_flow": null,
            "grid_area": null,
            "grid_auto_columns": null,
            "grid_auto_flow": null,
            "grid_auto_rows": null,
            "grid_column": null,
            "grid_gap": null,
            "grid_row": null,
            "grid_template_areas": null,
            "grid_template_columns": null,
            "grid_template_rows": null,
            "height": null,
            "justify_content": null,
            "justify_items": null,
            "left": null,
            "margin": null,
            "max_height": null,
            "max_width": null,
            "min_height": null,
            "min_width": null,
            "object_fit": null,
            "object_position": null,
            "order": null,
            "overflow": null,
            "overflow_x": null,
            "overflow_y": null,
            "padding": null,
            "right": null,
            "top": null,
            "visibility": null,
            "width": null
          }
        },
        "3ad271c313ce42208281afb8cbacefa6": {
          "model_module": "@jupyter-widgets/controls",
          "model_name": "DescriptionStyleModel",
          "model_module_version": "1.5.0",
          "state": {
            "_model_module": "@jupyter-widgets/controls",
            "_model_module_version": "1.5.0",
            "_model_name": "DescriptionStyleModel",
            "_view_count": null,
            "_view_module": "@jupyter-widgets/base",
            "_view_module_version": "1.2.0",
            "_view_name": "StyleView",
            "description_width": ""
          }
        },
        "32d31c7364c9473a821f0b95c2a463a5": {
          "model_module": "@jupyter-widgets/controls",
          "model_name": "HBoxModel",
          "model_module_version": "1.5.0",
          "state": {
            "_dom_classes": [],
            "_model_module": "@jupyter-widgets/controls",
            "_model_module_version": "1.5.0",
            "_model_name": "HBoxModel",
            "_view_count": null,
            "_view_module": "@jupyter-widgets/controls",
            "_view_module_version": "1.5.0",
            "_view_name": "HBoxView",
            "box_style": "",
            "children": [
              "IPY_MODEL_3c88381ad8144b77a4f9b10c56eeab33",
              "IPY_MODEL_b27f9f5e9fb2407e8afc81373929b15e",
              "IPY_MODEL_2d7ca55c18c44e7d815d232f39069dcc"
            ],
            "layout": "IPY_MODEL_f0c9d93689cc49e987f7676f9f9ee3cb"
          }
        },
        "3c88381ad8144b77a4f9b10c56eeab33": {
          "model_module": "@jupyter-widgets/controls",
          "model_name": "HTMLModel",
          "model_module_version": "1.5.0",
          "state": {
            "_dom_classes": [],
            "_model_module": "@jupyter-widgets/controls",
            "_model_module_version": "1.5.0",
            "_model_name": "HTMLModel",
            "_view_count": null,
            "_view_module": "@jupyter-widgets/controls",
            "_view_module_version": "1.5.0",
            "_view_name": "HTMLView",
            "description": "",
            "description_tooltip": null,
            "layout": "IPY_MODEL_6decc9ab5da840468905f956f4b5ce69",
            "placeholder": "​",
            "style": "IPY_MODEL_47af4a0f31c34d9e83763001b83dca75",
            "value": "vocab.txt: 100%"
          }
        },
        "b27f9f5e9fb2407e8afc81373929b15e": {
          "model_module": "@jupyter-widgets/controls",
          "model_name": "FloatProgressModel",
          "model_module_version": "1.5.0",
          "state": {
            "_dom_classes": [],
            "_model_module": "@jupyter-widgets/controls",
            "_model_module_version": "1.5.0",
            "_model_name": "FloatProgressModel",
            "_view_count": null,
            "_view_module": "@jupyter-widgets/controls",
            "_view_module_version": "1.5.0",
            "_view_name": "ProgressView",
            "bar_style": "success",
            "description": "",
            "description_tooltip": null,
            "layout": "IPY_MODEL_2d79dd2a572344f18c1c764d549dda56",
            "max": 213450,
            "min": 0,
            "orientation": "horizontal",
            "style": "IPY_MODEL_5532ab4fdb4143669f4ddd06d904a072",
            "value": 213450
          }
        },
        "2d7ca55c18c44e7d815d232f39069dcc": {
          "model_module": "@jupyter-widgets/controls",
          "model_name": "HTMLModel",
          "model_module_version": "1.5.0",
          "state": {
            "_dom_classes": [],
            "_model_module": "@jupyter-widgets/controls",
            "_model_module_version": "1.5.0",
            "_model_name": "HTMLModel",
            "_view_count": null,
            "_view_module": "@jupyter-widgets/controls",
            "_view_module_version": "1.5.0",
            "_view_name": "HTMLView",
            "description": "",
            "description_tooltip": null,
            "layout": "IPY_MODEL_94fd6ae174f54b77a3b30f9ddd2bc7ab",
            "placeholder": "​",
            "style": "IPY_MODEL_7741b5c7c6e3418ba9eb58fc839fc0d3",
            "value": " 213k/213k [00:00&lt;00:00, 1.00MB/s]"
          }
        },
        "f0c9d93689cc49e987f7676f9f9ee3cb": {
          "model_module": "@jupyter-widgets/base",
          "model_name": "LayoutModel",
          "model_module_version": "1.2.0",
          "state": {
            "_model_module": "@jupyter-widgets/base",
            "_model_module_version": "1.2.0",
            "_model_name": "LayoutModel",
            "_view_count": null,
            "_view_module": "@jupyter-widgets/base",
            "_view_module_version": "1.2.0",
            "_view_name": "LayoutView",
            "align_content": null,
            "align_items": null,
            "align_self": null,
            "border": null,
            "bottom": null,
            "display": null,
            "flex": null,
            "flex_flow": null,
            "grid_area": null,
            "grid_auto_columns": null,
            "grid_auto_flow": null,
            "grid_auto_rows": null,
            "grid_column": null,
            "grid_gap": null,
            "grid_row": null,
            "grid_template_areas": null,
            "grid_template_columns": null,
            "grid_template_rows": null,
            "height": null,
            "justify_content": null,
            "justify_items": null,
            "left": null,
            "margin": null,
            "max_height": null,
            "max_width": null,
            "min_height": null,
            "min_width": null,
            "object_fit": null,
            "object_position": null,
            "order": null,
            "overflow": null,
            "overflow_x": null,
            "overflow_y": null,
            "padding": null,
            "right": null,
            "top": null,
            "visibility": null,
            "width": null
          }
        },
        "6decc9ab5da840468905f956f4b5ce69": {
          "model_module": "@jupyter-widgets/base",
          "model_name": "LayoutModel",
          "model_module_version": "1.2.0",
          "state": {
            "_model_module": "@jupyter-widgets/base",
            "_model_module_version": "1.2.0",
            "_model_name": "LayoutModel",
            "_view_count": null,
            "_view_module": "@jupyter-widgets/base",
            "_view_module_version": "1.2.0",
            "_view_name": "LayoutView",
            "align_content": null,
            "align_items": null,
            "align_self": null,
            "border": null,
            "bottom": null,
            "display": null,
            "flex": null,
            "flex_flow": null,
            "grid_area": null,
            "grid_auto_columns": null,
            "grid_auto_flow": null,
            "grid_auto_rows": null,
            "grid_column": null,
            "grid_gap": null,
            "grid_row": null,
            "grid_template_areas": null,
            "grid_template_columns": null,
            "grid_template_rows": null,
            "height": null,
            "justify_content": null,
            "justify_items": null,
            "left": null,
            "margin": null,
            "max_height": null,
            "max_width": null,
            "min_height": null,
            "min_width": null,
            "object_fit": null,
            "object_position": null,
            "order": null,
            "overflow": null,
            "overflow_x": null,
            "overflow_y": null,
            "padding": null,
            "right": null,
            "top": null,
            "visibility": null,
            "width": null
          }
        },
        "47af4a0f31c34d9e83763001b83dca75": {
          "model_module": "@jupyter-widgets/controls",
          "model_name": "DescriptionStyleModel",
          "model_module_version": "1.5.0",
          "state": {
            "_model_module": "@jupyter-widgets/controls",
            "_model_module_version": "1.5.0",
            "_model_name": "DescriptionStyleModel",
            "_view_count": null,
            "_view_module": "@jupyter-widgets/base",
            "_view_module_version": "1.2.0",
            "_view_name": "StyleView",
            "description_width": ""
          }
        },
        "2d79dd2a572344f18c1c764d549dda56": {
          "model_module": "@jupyter-widgets/base",
          "model_name": "LayoutModel",
          "model_module_version": "1.2.0",
          "state": {
            "_model_module": "@jupyter-widgets/base",
            "_model_module_version": "1.2.0",
            "_model_name": "LayoutModel",
            "_view_count": null,
            "_view_module": "@jupyter-widgets/base",
            "_view_module_version": "1.2.0",
            "_view_name": "LayoutView",
            "align_content": null,
            "align_items": null,
            "align_self": null,
            "border": null,
            "bottom": null,
            "display": null,
            "flex": null,
            "flex_flow": null,
            "grid_area": null,
            "grid_auto_columns": null,
            "grid_auto_flow": null,
            "grid_auto_rows": null,
            "grid_column": null,
            "grid_gap": null,
            "grid_row": null,
            "grid_template_areas": null,
            "grid_template_columns": null,
            "grid_template_rows": null,
            "height": null,
            "justify_content": null,
            "justify_items": null,
            "left": null,
            "margin": null,
            "max_height": null,
            "max_width": null,
            "min_height": null,
            "min_width": null,
            "object_fit": null,
            "object_position": null,
            "order": null,
            "overflow": null,
            "overflow_x": null,
            "overflow_y": null,
            "padding": null,
            "right": null,
            "top": null,
            "visibility": null,
            "width": null
          }
        },
        "5532ab4fdb4143669f4ddd06d904a072": {
          "model_module": "@jupyter-widgets/controls",
          "model_name": "ProgressStyleModel",
          "model_module_version": "1.5.0",
          "state": {
            "_model_module": "@jupyter-widgets/controls",
            "_model_module_version": "1.5.0",
            "_model_name": "ProgressStyleModel",
            "_view_count": null,
            "_view_module": "@jupyter-widgets/base",
            "_view_module_version": "1.2.0",
            "_view_name": "StyleView",
            "bar_color": null,
            "description_width": ""
          }
        },
        "94fd6ae174f54b77a3b30f9ddd2bc7ab": {
          "model_module": "@jupyter-widgets/base",
          "model_name": "LayoutModel",
          "model_module_version": "1.2.0",
          "state": {
            "_model_module": "@jupyter-widgets/base",
            "_model_module_version": "1.2.0",
            "_model_name": "LayoutModel",
            "_view_count": null,
            "_view_module": "@jupyter-widgets/base",
            "_view_module_version": "1.2.0",
            "_view_name": "LayoutView",
            "align_content": null,
            "align_items": null,
            "align_self": null,
            "border": null,
            "bottom": null,
            "display": null,
            "flex": null,
            "flex_flow": null,
            "grid_area": null,
            "grid_auto_columns": null,
            "grid_auto_flow": null,
            "grid_auto_rows": null,
            "grid_column": null,
            "grid_gap": null,
            "grid_row": null,
            "grid_template_areas": null,
            "grid_template_columns": null,
            "grid_template_rows": null,
            "height": null,
            "justify_content": null,
            "justify_items": null,
            "left": null,
            "margin": null,
            "max_height": null,
            "max_width": null,
            "min_height": null,
            "min_width": null,
            "object_fit": null,
            "object_position": null,
            "order": null,
            "overflow": null,
            "overflow_x": null,
            "overflow_y": null,
            "padding": null,
            "right": null,
            "top": null,
            "visibility": null,
            "width": null
          }
        },
        "7741b5c7c6e3418ba9eb58fc839fc0d3": {
          "model_module": "@jupyter-widgets/controls",
          "model_name": "DescriptionStyleModel",
          "model_module_version": "1.5.0",
          "state": {
            "_model_module": "@jupyter-widgets/controls",
            "_model_module_version": "1.5.0",
            "_model_name": "DescriptionStyleModel",
            "_view_count": null,
            "_view_module": "@jupyter-widgets/base",
            "_view_module_version": "1.2.0",
            "_view_name": "StyleView",
            "description_width": ""
          }
        },
        "ded577f939234e8aa4f666bafe45910c": {
          "model_module": "@jupyter-widgets/controls",
          "model_name": "HBoxModel",
          "model_module_version": "1.5.0",
          "state": {
            "_dom_classes": [],
            "_model_module": "@jupyter-widgets/controls",
            "_model_module_version": "1.5.0",
            "_model_name": "HBoxModel",
            "_view_count": null,
            "_view_module": "@jupyter-widgets/controls",
            "_view_module_version": "1.5.0",
            "_view_name": "HBoxView",
            "box_style": "",
            "children": [
              "IPY_MODEL_e8a811346a04499bb3443e5faf95ff7d",
              "IPY_MODEL_d8fa592edad34e78bd5ebe15927916bf",
              "IPY_MODEL_7ab49f735b144ba3afdc5aaa16b5a85f"
            ],
            "layout": "IPY_MODEL_405835ef92d34edea44dbbd7774c6247"
          }
        },
        "e8a811346a04499bb3443e5faf95ff7d": {
          "model_module": "@jupyter-widgets/controls",
          "model_name": "HTMLModel",
          "model_module_version": "1.5.0",
          "state": {
            "_dom_classes": [],
            "_model_module": "@jupyter-widgets/controls",
            "_model_module_version": "1.5.0",
            "_model_name": "HTMLModel",
            "_view_count": null,
            "_view_module": "@jupyter-widgets/controls",
            "_view_module_version": "1.5.0",
            "_view_name": "HTMLView",
            "description": "",
            "description_tooltip": null,
            "layout": "IPY_MODEL_99eea6f652db4211a8ea3717778d043a",
            "placeholder": "​",
            "style": "IPY_MODEL_9d199805a13749709b71bc0f18772fbb",
            "value": "tokenizer.json: 100%"
          }
        },
        "d8fa592edad34e78bd5ebe15927916bf": {
          "model_module": "@jupyter-widgets/controls",
          "model_name": "FloatProgressModel",
          "model_module_version": "1.5.0",
          "state": {
            "_dom_classes": [],
            "_model_module": "@jupyter-widgets/controls",
            "_model_module_version": "1.5.0",
            "_model_name": "FloatProgressModel",
            "_view_count": null,
            "_view_module": "@jupyter-widgets/controls",
            "_view_module_version": "1.5.0",
            "_view_name": "ProgressView",
            "bar_style": "success",
            "description": "",
            "description_tooltip": null,
            "layout": "IPY_MODEL_d4e0a6b7d24d4222ba98a5c01125db9f",
            "max": 435797,
            "min": 0,
            "orientation": "horizontal",
            "style": "IPY_MODEL_867cd818b26b4664815165ac1719ef03",
            "value": 435797
          }
        },
        "7ab49f735b144ba3afdc5aaa16b5a85f": {
          "model_module": "@jupyter-widgets/controls",
          "model_name": "HTMLModel",
          "model_module_version": "1.5.0",
          "state": {
            "_dom_classes": [],
            "_model_module": "@jupyter-widgets/controls",
            "_model_module_version": "1.5.0",
            "_model_name": "HTMLModel",
            "_view_count": null,
            "_view_module": "@jupyter-widgets/controls",
            "_view_module_version": "1.5.0",
            "_view_name": "HTMLView",
            "description": "",
            "description_tooltip": null,
            "layout": "IPY_MODEL_74f16864360349e98fa19df4e93340fb",
            "placeholder": "​",
            "style": "IPY_MODEL_d8caeec345c74ae6a763a636e435bb2b",
            "value": " 436k/436k [00:00&lt;00:00, 9.70MB/s]"
          }
        },
        "405835ef92d34edea44dbbd7774c6247": {
          "model_module": "@jupyter-widgets/base",
          "model_name": "LayoutModel",
          "model_module_version": "1.2.0",
          "state": {
            "_model_module": "@jupyter-widgets/base",
            "_model_module_version": "1.2.0",
            "_model_name": "LayoutModel",
            "_view_count": null,
            "_view_module": "@jupyter-widgets/base",
            "_view_module_version": "1.2.0",
            "_view_name": "LayoutView",
            "align_content": null,
            "align_items": null,
            "align_self": null,
            "border": null,
            "bottom": null,
            "display": null,
            "flex": null,
            "flex_flow": null,
            "grid_area": null,
            "grid_auto_columns": null,
            "grid_auto_flow": null,
            "grid_auto_rows": null,
            "grid_column": null,
            "grid_gap": null,
            "grid_row": null,
            "grid_template_areas": null,
            "grid_template_columns": null,
            "grid_template_rows": null,
            "height": null,
            "justify_content": null,
            "justify_items": null,
            "left": null,
            "margin": null,
            "max_height": null,
            "max_width": null,
            "min_height": null,
            "min_width": null,
            "object_fit": null,
            "object_position": null,
            "order": null,
            "overflow": null,
            "overflow_x": null,
            "overflow_y": null,
            "padding": null,
            "right": null,
            "top": null,
            "visibility": null,
            "width": null
          }
        },
        "99eea6f652db4211a8ea3717778d043a": {
          "model_module": "@jupyter-widgets/base",
          "model_name": "LayoutModel",
          "model_module_version": "1.2.0",
          "state": {
            "_model_module": "@jupyter-widgets/base",
            "_model_module_version": "1.2.0",
            "_model_name": "LayoutModel",
            "_view_count": null,
            "_view_module": "@jupyter-widgets/base",
            "_view_module_version": "1.2.0",
            "_view_name": "LayoutView",
            "align_content": null,
            "align_items": null,
            "align_self": null,
            "border": null,
            "bottom": null,
            "display": null,
            "flex": null,
            "flex_flow": null,
            "grid_area": null,
            "grid_auto_columns": null,
            "grid_auto_flow": null,
            "grid_auto_rows": null,
            "grid_column": null,
            "grid_gap": null,
            "grid_row": null,
            "grid_template_areas": null,
            "grid_template_columns": null,
            "grid_template_rows": null,
            "height": null,
            "justify_content": null,
            "justify_items": null,
            "left": null,
            "margin": null,
            "max_height": null,
            "max_width": null,
            "min_height": null,
            "min_width": null,
            "object_fit": null,
            "object_position": null,
            "order": null,
            "overflow": null,
            "overflow_x": null,
            "overflow_y": null,
            "padding": null,
            "right": null,
            "top": null,
            "visibility": null,
            "width": null
          }
        },
        "9d199805a13749709b71bc0f18772fbb": {
          "model_module": "@jupyter-widgets/controls",
          "model_name": "DescriptionStyleModel",
          "model_module_version": "1.5.0",
          "state": {
            "_model_module": "@jupyter-widgets/controls",
            "_model_module_version": "1.5.0",
            "_model_name": "DescriptionStyleModel",
            "_view_count": null,
            "_view_module": "@jupyter-widgets/base",
            "_view_module_version": "1.2.0",
            "_view_name": "StyleView",
            "description_width": ""
          }
        },
        "d4e0a6b7d24d4222ba98a5c01125db9f": {
          "model_module": "@jupyter-widgets/base",
          "model_name": "LayoutModel",
          "model_module_version": "1.2.0",
          "state": {
            "_model_module": "@jupyter-widgets/base",
            "_model_module_version": "1.2.0",
            "_model_name": "LayoutModel",
            "_view_count": null,
            "_view_module": "@jupyter-widgets/base",
            "_view_module_version": "1.2.0",
            "_view_name": "LayoutView",
            "align_content": null,
            "align_items": null,
            "align_self": null,
            "border": null,
            "bottom": null,
            "display": null,
            "flex": null,
            "flex_flow": null,
            "grid_area": null,
            "grid_auto_columns": null,
            "grid_auto_flow": null,
            "grid_auto_rows": null,
            "grid_column": null,
            "grid_gap": null,
            "grid_row": null,
            "grid_template_areas": null,
            "grid_template_columns": null,
            "grid_template_rows": null,
            "height": null,
            "justify_content": null,
            "justify_items": null,
            "left": null,
            "margin": null,
            "max_height": null,
            "max_width": null,
            "min_height": null,
            "min_width": null,
            "object_fit": null,
            "object_position": null,
            "order": null,
            "overflow": null,
            "overflow_x": null,
            "overflow_y": null,
            "padding": null,
            "right": null,
            "top": null,
            "visibility": null,
            "width": null
          }
        },
        "867cd818b26b4664815165ac1719ef03": {
          "model_module": "@jupyter-widgets/controls",
          "model_name": "ProgressStyleModel",
          "model_module_version": "1.5.0",
          "state": {
            "_model_module": "@jupyter-widgets/controls",
            "_model_module_version": "1.5.0",
            "_model_name": "ProgressStyleModel",
            "_view_count": null,
            "_view_module": "@jupyter-widgets/base",
            "_view_module_version": "1.2.0",
            "_view_name": "StyleView",
            "bar_color": null,
            "description_width": ""
          }
        },
        "74f16864360349e98fa19df4e93340fb": {
          "model_module": "@jupyter-widgets/base",
          "model_name": "LayoutModel",
          "model_module_version": "1.2.0",
          "state": {
            "_model_module": "@jupyter-widgets/base",
            "_model_module_version": "1.2.0",
            "_model_name": "LayoutModel",
            "_view_count": null,
            "_view_module": "@jupyter-widgets/base",
            "_view_module_version": "1.2.0",
            "_view_name": "LayoutView",
            "align_content": null,
            "align_items": null,
            "align_self": null,
            "border": null,
            "bottom": null,
            "display": null,
            "flex": null,
            "flex_flow": null,
            "grid_area": null,
            "grid_auto_columns": null,
            "grid_auto_flow": null,
            "grid_auto_rows": null,
            "grid_column": null,
            "grid_gap": null,
            "grid_row": null,
            "grid_template_areas": null,
            "grid_template_columns": null,
            "grid_template_rows": null,
            "height": null,
            "justify_content": null,
            "justify_items": null,
            "left": null,
            "margin": null,
            "max_height": null,
            "max_width": null,
            "min_height": null,
            "min_width": null,
            "object_fit": null,
            "object_position": null,
            "order": null,
            "overflow": null,
            "overflow_x": null,
            "overflow_y": null,
            "padding": null,
            "right": null,
            "top": null,
            "visibility": null,
            "width": null
          }
        },
        "d8caeec345c74ae6a763a636e435bb2b": {
          "model_module": "@jupyter-widgets/controls",
          "model_name": "DescriptionStyleModel",
          "model_module_version": "1.5.0",
          "state": {
            "_model_module": "@jupyter-widgets/controls",
            "_model_module_version": "1.5.0",
            "_model_name": "DescriptionStyleModel",
            "_view_count": null,
            "_view_module": "@jupyter-widgets/base",
            "_view_module_version": "1.2.0",
            "_view_name": "StyleView",
            "description_width": ""
          }
        },
        "c32cea01a2114bf798701687606c1dc9": {
          "model_module": "@jupyter-widgets/controls",
          "model_name": "HBoxModel",
          "model_module_version": "1.5.0",
          "state": {
            "_dom_classes": [],
            "_model_module": "@jupyter-widgets/controls",
            "_model_module_version": "1.5.0",
            "_model_name": "HBoxModel",
            "_view_count": null,
            "_view_module": "@jupyter-widgets/controls",
            "_view_module_version": "1.5.0",
            "_view_name": "HBoxView",
            "box_style": "",
            "children": [
              "IPY_MODEL_51b2645de8684431a4a172183ebb4f13",
              "IPY_MODEL_a5dee970f77341c5bc20f92fef210e2b",
              "IPY_MODEL_805683bacb954c8d93b99e4085d344a5"
            ],
            "layout": "IPY_MODEL_014928225d6a4c99a1c4a5d43e218a0d"
          }
        },
        "51b2645de8684431a4a172183ebb4f13": {
          "model_module": "@jupyter-widgets/controls",
          "model_name": "HTMLModel",
          "model_module_version": "1.5.0",
          "state": {
            "_dom_classes": [],
            "_model_module": "@jupyter-widgets/controls",
            "_model_module_version": "1.5.0",
            "_model_name": "HTMLModel",
            "_view_count": null,
            "_view_module": "@jupyter-widgets/controls",
            "_view_module_version": "1.5.0",
            "_view_name": "HTMLView",
            "description": "",
            "description_tooltip": null,
            "layout": "IPY_MODEL_166cbee723134226a484c8413378d68b",
            "placeholder": "​",
            "style": "IPY_MODEL_f69187d376e249c59e698f215b839d43",
            "value": "config.json: 100%"
          }
        },
        "a5dee970f77341c5bc20f92fef210e2b": {
          "model_module": "@jupyter-widgets/controls",
          "model_name": "FloatProgressModel",
          "model_module_version": "1.5.0",
          "state": {
            "_dom_classes": [],
            "_model_module": "@jupyter-widgets/controls",
            "_model_module_version": "1.5.0",
            "_model_name": "FloatProgressModel",
            "_view_count": null,
            "_view_module": "@jupyter-widgets/controls",
            "_view_module_version": "1.5.0",
            "_view_name": "ProgressView",
            "bar_style": "success",
            "description": "",
            "description_tooltip": null,
            "layout": "IPY_MODEL_de8d52fd67724ebc87147926f9048772",
            "max": 570,
            "min": 0,
            "orientation": "horizontal",
            "style": "IPY_MODEL_23c25b8e1cc8418fb23f7c0d9ff9d8f5",
            "value": 570
          }
        },
        "805683bacb954c8d93b99e4085d344a5": {
          "model_module": "@jupyter-widgets/controls",
          "model_name": "HTMLModel",
          "model_module_version": "1.5.0",
          "state": {
            "_dom_classes": [],
            "_model_module": "@jupyter-widgets/controls",
            "_model_module_version": "1.5.0",
            "_model_name": "HTMLModel",
            "_view_count": null,
            "_view_module": "@jupyter-widgets/controls",
            "_view_module_version": "1.5.0",
            "_view_name": "HTMLView",
            "description": "",
            "description_tooltip": null,
            "layout": "IPY_MODEL_a0e50b936d1f433bac3d1b65263e3fe2",
            "placeholder": "​",
            "style": "IPY_MODEL_6a6b4c2236cc4ae9b76d5f6fd94ff43c",
            "value": " 570/570 [00:00&lt;00:00, 37.6kB/s]"
          }
        },
        "014928225d6a4c99a1c4a5d43e218a0d": {
          "model_module": "@jupyter-widgets/base",
          "model_name": "LayoutModel",
          "model_module_version": "1.2.0",
          "state": {
            "_model_module": "@jupyter-widgets/base",
            "_model_module_version": "1.2.0",
            "_model_name": "LayoutModel",
            "_view_count": null,
            "_view_module": "@jupyter-widgets/base",
            "_view_module_version": "1.2.0",
            "_view_name": "LayoutView",
            "align_content": null,
            "align_items": null,
            "align_self": null,
            "border": null,
            "bottom": null,
            "display": null,
            "flex": null,
            "flex_flow": null,
            "grid_area": null,
            "grid_auto_columns": null,
            "grid_auto_flow": null,
            "grid_auto_rows": null,
            "grid_column": null,
            "grid_gap": null,
            "grid_row": null,
            "grid_template_areas": null,
            "grid_template_columns": null,
            "grid_template_rows": null,
            "height": null,
            "justify_content": null,
            "justify_items": null,
            "left": null,
            "margin": null,
            "max_height": null,
            "max_width": null,
            "min_height": null,
            "min_width": null,
            "object_fit": null,
            "object_position": null,
            "order": null,
            "overflow": null,
            "overflow_x": null,
            "overflow_y": null,
            "padding": null,
            "right": null,
            "top": null,
            "visibility": null,
            "width": null
          }
        },
        "166cbee723134226a484c8413378d68b": {
          "model_module": "@jupyter-widgets/base",
          "model_name": "LayoutModel",
          "model_module_version": "1.2.0",
          "state": {
            "_model_module": "@jupyter-widgets/base",
            "_model_module_version": "1.2.0",
            "_model_name": "LayoutModel",
            "_view_count": null,
            "_view_module": "@jupyter-widgets/base",
            "_view_module_version": "1.2.0",
            "_view_name": "LayoutView",
            "align_content": null,
            "align_items": null,
            "align_self": null,
            "border": null,
            "bottom": null,
            "display": null,
            "flex": null,
            "flex_flow": null,
            "grid_area": null,
            "grid_auto_columns": null,
            "grid_auto_flow": null,
            "grid_auto_rows": null,
            "grid_column": null,
            "grid_gap": null,
            "grid_row": null,
            "grid_template_areas": null,
            "grid_template_columns": null,
            "grid_template_rows": null,
            "height": null,
            "justify_content": null,
            "justify_items": null,
            "left": null,
            "margin": null,
            "max_height": null,
            "max_width": null,
            "min_height": null,
            "min_width": null,
            "object_fit": null,
            "object_position": null,
            "order": null,
            "overflow": null,
            "overflow_x": null,
            "overflow_y": null,
            "padding": null,
            "right": null,
            "top": null,
            "visibility": null,
            "width": null
          }
        },
        "f69187d376e249c59e698f215b839d43": {
          "model_module": "@jupyter-widgets/controls",
          "model_name": "DescriptionStyleModel",
          "model_module_version": "1.5.0",
          "state": {
            "_model_module": "@jupyter-widgets/controls",
            "_model_module_version": "1.5.0",
            "_model_name": "DescriptionStyleModel",
            "_view_count": null,
            "_view_module": "@jupyter-widgets/base",
            "_view_module_version": "1.2.0",
            "_view_name": "StyleView",
            "description_width": ""
          }
        },
        "de8d52fd67724ebc87147926f9048772": {
          "model_module": "@jupyter-widgets/base",
          "model_name": "LayoutModel",
          "model_module_version": "1.2.0",
          "state": {
            "_model_module": "@jupyter-widgets/base",
            "_model_module_version": "1.2.0",
            "_model_name": "LayoutModel",
            "_view_count": null,
            "_view_module": "@jupyter-widgets/base",
            "_view_module_version": "1.2.0",
            "_view_name": "LayoutView",
            "align_content": null,
            "align_items": null,
            "align_self": null,
            "border": null,
            "bottom": null,
            "display": null,
            "flex": null,
            "flex_flow": null,
            "grid_area": null,
            "grid_auto_columns": null,
            "grid_auto_flow": null,
            "grid_auto_rows": null,
            "grid_column": null,
            "grid_gap": null,
            "grid_row": null,
            "grid_template_areas": null,
            "grid_template_columns": null,
            "grid_template_rows": null,
            "height": null,
            "justify_content": null,
            "justify_items": null,
            "left": null,
            "margin": null,
            "max_height": null,
            "max_width": null,
            "min_height": null,
            "min_width": null,
            "object_fit": null,
            "object_position": null,
            "order": null,
            "overflow": null,
            "overflow_x": null,
            "overflow_y": null,
            "padding": null,
            "right": null,
            "top": null,
            "visibility": null,
            "width": null
          }
        },
        "23c25b8e1cc8418fb23f7c0d9ff9d8f5": {
          "model_module": "@jupyter-widgets/controls",
          "model_name": "ProgressStyleModel",
          "model_module_version": "1.5.0",
          "state": {
            "_model_module": "@jupyter-widgets/controls",
            "_model_module_version": "1.5.0",
            "_model_name": "ProgressStyleModel",
            "_view_count": null,
            "_view_module": "@jupyter-widgets/base",
            "_view_module_version": "1.2.0",
            "_view_name": "StyleView",
            "bar_color": null,
            "description_width": ""
          }
        },
        "a0e50b936d1f433bac3d1b65263e3fe2": {
          "model_module": "@jupyter-widgets/base",
          "model_name": "LayoutModel",
          "model_module_version": "1.2.0",
          "state": {
            "_model_module": "@jupyter-widgets/base",
            "_model_module_version": "1.2.0",
            "_model_name": "LayoutModel",
            "_view_count": null,
            "_view_module": "@jupyter-widgets/base",
            "_view_module_version": "1.2.0",
            "_view_name": "LayoutView",
            "align_content": null,
            "align_items": null,
            "align_self": null,
            "border": null,
            "bottom": null,
            "display": null,
            "flex": null,
            "flex_flow": null,
            "grid_area": null,
            "grid_auto_columns": null,
            "grid_auto_flow": null,
            "grid_auto_rows": null,
            "grid_column": null,
            "grid_gap": null,
            "grid_row": null,
            "grid_template_areas": null,
            "grid_template_columns": null,
            "grid_template_rows": null,
            "height": null,
            "justify_content": null,
            "justify_items": null,
            "left": null,
            "margin": null,
            "max_height": null,
            "max_width": null,
            "min_height": null,
            "min_width": null,
            "object_fit": null,
            "object_position": null,
            "order": null,
            "overflow": null,
            "overflow_x": null,
            "overflow_y": null,
            "padding": null,
            "right": null,
            "top": null,
            "visibility": null,
            "width": null
          }
        },
        "6a6b4c2236cc4ae9b76d5f6fd94ff43c": {
          "model_module": "@jupyter-widgets/controls",
          "model_name": "DescriptionStyleModel",
          "model_module_version": "1.5.0",
          "state": {
            "_model_module": "@jupyter-widgets/controls",
            "_model_module_version": "1.5.0",
            "_model_name": "DescriptionStyleModel",
            "_view_count": null,
            "_view_module": "@jupyter-widgets/base",
            "_view_module_version": "1.2.0",
            "_view_name": "StyleView",
            "description_width": ""
          }
        },
        "3d01213b3b9e41c3b6920f0b29d028fe": {
          "model_module": "@jupyter-widgets/controls",
          "model_name": "HBoxModel",
          "model_module_version": "1.5.0",
          "state": {
            "_dom_classes": [],
            "_model_module": "@jupyter-widgets/controls",
            "_model_module_version": "1.5.0",
            "_model_name": "HBoxModel",
            "_view_count": null,
            "_view_module": "@jupyter-widgets/controls",
            "_view_module_version": "1.5.0",
            "_view_name": "HBoxView",
            "box_style": "",
            "children": [
              "IPY_MODEL_62327551bba1475f95e78d7d44914c85",
              "IPY_MODEL_6767139e7da24c20b9717d64b87f18b8",
              "IPY_MODEL_5d89b9428f5f4dde90078db59fee19f4"
            ],
            "layout": "IPY_MODEL_589b39147783473e89cbf2c901eb0c06"
          }
        },
        "62327551bba1475f95e78d7d44914c85": {
          "model_module": "@jupyter-widgets/controls",
          "model_name": "HTMLModel",
          "model_module_version": "1.5.0",
          "state": {
            "_dom_classes": [],
            "_model_module": "@jupyter-widgets/controls",
            "_model_module_version": "1.5.0",
            "_model_name": "HTMLModel",
            "_view_count": null,
            "_view_module": "@jupyter-widgets/controls",
            "_view_module_version": "1.5.0",
            "_view_name": "HTMLView",
            "description": "",
            "description_tooltip": null,
            "layout": "IPY_MODEL_6efaa90cad8e4de5b8c8863e939328b2",
            "placeholder": "​",
            "style": "IPY_MODEL_5aa06ac09683483bac317935fd2bc816",
            "value": "model.safetensors: 100%"
          }
        },
        "6767139e7da24c20b9717d64b87f18b8": {
          "model_module": "@jupyter-widgets/controls",
          "model_name": "FloatProgressModel",
          "model_module_version": "1.5.0",
          "state": {
            "_dom_classes": [],
            "_model_module": "@jupyter-widgets/controls",
            "_model_module_version": "1.5.0",
            "_model_name": "FloatProgressModel",
            "_view_count": null,
            "_view_module": "@jupyter-widgets/controls",
            "_view_module_version": "1.5.0",
            "_view_name": "ProgressView",
            "bar_style": "success",
            "description": "",
            "description_tooltip": null,
            "layout": "IPY_MODEL_238eaff3b46844dabb2b764876bfc30b",
            "max": 435755784,
            "min": 0,
            "orientation": "horizontal",
            "style": "IPY_MODEL_bae071ffdb8d4eb787b39fd115832e9e",
            "value": 435755784
          }
        },
        "5d89b9428f5f4dde90078db59fee19f4": {
          "model_module": "@jupyter-widgets/controls",
          "model_name": "HTMLModel",
          "model_module_version": "1.5.0",
          "state": {
            "_dom_classes": [],
            "_model_module": "@jupyter-widgets/controls",
            "_model_module_version": "1.5.0",
            "_model_name": "HTMLModel",
            "_view_count": null,
            "_view_module": "@jupyter-widgets/controls",
            "_view_module_version": "1.5.0",
            "_view_name": "HTMLView",
            "description": "",
            "description_tooltip": null,
            "layout": "IPY_MODEL_0fbc3f8532284706a7be78e54b9b7c94",
            "placeholder": "​",
            "style": "IPY_MODEL_17c965f87673486d84b5a8345ca3233c",
            "value": " 436M/436M [00:04&lt;00:00, 75.0MB/s]"
          }
        },
        "589b39147783473e89cbf2c901eb0c06": {
          "model_module": "@jupyter-widgets/base",
          "model_name": "LayoutModel",
          "model_module_version": "1.2.0",
          "state": {
            "_model_module": "@jupyter-widgets/base",
            "_model_module_version": "1.2.0",
            "_model_name": "LayoutModel",
            "_view_count": null,
            "_view_module": "@jupyter-widgets/base",
            "_view_module_version": "1.2.0",
            "_view_name": "LayoutView",
            "align_content": null,
            "align_items": null,
            "align_self": null,
            "border": null,
            "bottom": null,
            "display": null,
            "flex": null,
            "flex_flow": null,
            "grid_area": null,
            "grid_auto_columns": null,
            "grid_auto_flow": null,
            "grid_auto_rows": null,
            "grid_column": null,
            "grid_gap": null,
            "grid_row": null,
            "grid_template_areas": null,
            "grid_template_columns": null,
            "grid_template_rows": null,
            "height": null,
            "justify_content": null,
            "justify_items": null,
            "left": null,
            "margin": null,
            "max_height": null,
            "max_width": null,
            "min_height": null,
            "min_width": null,
            "object_fit": null,
            "object_position": null,
            "order": null,
            "overflow": null,
            "overflow_x": null,
            "overflow_y": null,
            "padding": null,
            "right": null,
            "top": null,
            "visibility": null,
            "width": null
          }
        },
        "6efaa90cad8e4de5b8c8863e939328b2": {
          "model_module": "@jupyter-widgets/base",
          "model_name": "LayoutModel",
          "model_module_version": "1.2.0",
          "state": {
            "_model_module": "@jupyter-widgets/base",
            "_model_module_version": "1.2.0",
            "_model_name": "LayoutModel",
            "_view_count": null,
            "_view_module": "@jupyter-widgets/base",
            "_view_module_version": "1.2.0",
            "_view_name": "LayoutView",
            "align_content": null,
            "align_items": null,
            "align_self": null,
            "border": null,
            "bottom": null,
            "display": null,
            "flex": null,
            "flex_flow": null,
            "grid_area": null,
            "grid_auto_columns": null,
            "grid_auto_flow": null,
            "grid_auto_rows": null,
            "grid_column": null,
            "grid_gap": null,
            "grid_row": null,
            "grid_template_areas": null,
            "grid_template_columns": null,
            "grid_template_rows": null,
            "height": null,
            "justify_content": null,
            "justify_items": null,
            "left": null,
            "margin": null,
            "max_height": null,
            "max_width": null,
            "min_height": null,
            "min_width": null,
            "object_fit": null,
            "object_position": null,
            "order": null,
            "overflow": null,
            "overflow_x": null,
            "overflow_y": null,
            "padding": null,
            "right": null,
            "top": null,
            "visibility": null,
            "width": null
          }
        },
        "5aa06ac09683483bac317935fd2bc816": {
          "model_module": "@jupyter-widgets/controls",
          "model_name": "DescriptionStyleModel",
          "model_module_version": "1.5.0",
          "state": {
            "_model_module": "@jupyter-widgets/controls",
            "_model_module_version": "1.5.0",
            "_model_name": "DescriptionStyleModel",
            "_view_count": null,
            "_view_module": "@jupyter-widgets/base",
            "_view_module_version": "1.2.0",
            "_view_name": "StyleView",
            "description_width": ""
          }
        },
        "238eaff3b46844dabb2b764876bfc30b": {
          "model_module": "@jupyter-widgets/base",
          "model_name": "LayoutModel",
          "model_module_version": "1.2.0",
          "state": {
            "_model_module": "@jupyter-widgets/base",
            "_model_module_version": "1.2.0",
            "_model_name": "LayoutModel",
            "_view_count": null,
            "_view_module": "@jupyter-widgets/base",
            "_view_module_version": "1.2.0",
            "_view_name": "LayoutView",
            "align_content": null,
            "align_items": null,
            "align_self": null,
            "border": null,
            "bottom": null,
            "display": null,
            "flex": null,
            "flex_flow": null,
            "grid_area": null,
            "grid_auto_columns": null,
            "grid_auto_flow": null,
            "grid_auto_rows": null,
            "grid_column": null,
            "grid_gap": null,
            "grid_row": null,
            "grid_template_areas": null,
            "grid_template_columns": null,
            "grid_template_rows": null,
            "height": null,
            "justify_content": null,
            "justify_items": null,
            "left": null,
            "margin": null,
            "max_height": null,
            "max_width": null,
            "min_height": null,
            "min_width": null,
            "object_fit": null,
            "object_position": null,
            "order": null,
            "overflow": null,
            "overflow_x": null,
            "overflow_y": null,
            "padding": null,
            "right": null,
            "top": null,
            "visibility": null,
            "width": null
          }
        },
        "bae071ffdb8d4eb787b39fd115832e9e": {
          "model_module": "@jupyter-widgets/controls",
          "model_name": "ProgressStyleModel",
          "model_module_version": "1.5.0",
          "state": {
            "_model_module": "@jupyter-widgets/controls",
            "_model_module_version": "1.5.0",
            "_model_name": "ProgressStyleModel",
            "_view_count": null,
            "_view_module": "@jupyter-widgets/base",
            "_view_module_version": "1.2.0",
            "_view_name": "StyleView",
            "bar_color": null,
            "description_width": ""
          }
        },
        "0fbc3f8532284706a7be78e54b9b7c94": {
          "model_module": "@jupyter-widgets/base",
          "model_name": "LayoutModel",
          "model_module_version": "1.2.0",
          "state": {
            "_model_module": "@jupyter-widgets/base",
            "_model_module_version": "1.2.0",
            "_model_name": "LayoutModel",
            "_view_count": null,
            "_view_module": "@jupyter-widgets/base",
            "_view_module_version": "1.2.0",
            "_view_name": "LayoutView",
            "align_content": null,
            "align_items": null,
            "align_self": null,
            "border": null,
            "bottom": null,
            "display": null,
            "flex": null,
            "flex_flow": null,
            "grid_area": null,
            "grid_auto_columns": null,
            "grid_auto_flow": null,
            "grid_auto_rows": null,
            "grid_column": null,
            "grid_gap": null,
            "grid_row": null,
            "grid_template_areas": null,
            "grid_template_columns": null,
            "grid_template_rows": null,
            "height": null,
            "justify_content": null,
            "justify_items": null,
            "left": null,
            "margin": null,
            "max_height": null,
            "max_width": null,
            "min_height": null,
            "min_width": null,
            "object_fit": null,
            "object_position": null,
            "order": null,
            "overflow": null,
            "overflow_x": null,
            "overflow_y": null,
            "padding": null,
            "right": null,
            "top": null,
            "visibility": null,
            "width": null
          }
        },
        "17c965f87673486d84b5a8345ca3233c": {
          "model_module": "@jupyter-widgets/controls",
          "model_name": "DescriptionStyleModel",
          "model_module_version": "1.5.0",
          "state": {
            "_model_module": "@jupyter-widgets/controls",
            "_model_module_version": "1.5.0",
            "_model_name": "DescriptionStyleModel",
            "_view_count": null,
            "_view_module": "@jupyter-widgets/base",
            "_view_module_version": "1.2.0",
            "_view_name": "StyleView",
            "description_width": ""
          }
        }
      }
    },
    "accelerator": "GPU"
  },
  "nbformat": 4,
  "nbformat_minor": 0
}